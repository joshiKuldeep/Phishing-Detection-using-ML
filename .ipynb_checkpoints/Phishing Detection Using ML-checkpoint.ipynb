{
 "cells": [
  {
   "cell_type": "markdown",
   "metadata": {
    "id": "-LD5n8S7UT4_"
   },
   "source": [
    "## Importing libraries"
   ]
  },
  {
   "cell_type": "code",
   "execution_count": 1,
   "metadata": {
    "id": "-XepC-qQUW_o"
   },
   "outputs": [],
   "source": [
    "%matplotlib inline\n",
    "import warnings\n",
    "warnings.filterwarnings(\"ignore\")\n",
    "\n",
    "# data manipulation and numeric operations\n",
    "import pandas as pd\n",
    "import numpy as np\n",
    "\n",
    "# data visualization\n",
    "import matplotlib.pyplot as plt\n",
    "import seaborn as sns\n",
    "\n",
    "# save and load serialized objects\n",
    "import pickle\n",
    "\n",
    "# track progress of function execution\n",
    "from tqdm import tqdm\n",
    "import os"
   ]
  },
  {
   "cell_type": "markdown",
   "metadata": {
    "id": "bQ7VLoglURd2"
   },
   "source": [
    "## Data Loading"
   ]
  },
  {
   "cell_type": "code",
   "execution_count": null,
   "metadata": {
    "colab": {
     "base_uri": "https://localhost:8080/"
    },
    "executionInfo": {
     "elapsed": 24825,
     "status": "ok",
     "timestamp": 1639641206616,
     "user": {
      "displayName": "Kuldeep Joshi",
      "photoUrl": "https://lh3.googleusercontent.com/a-/AOh14GiJ4WNwl1G6NPV39M0GVQrsKWORGyLmIPpbMlQSA_w=s64",
      "userId": "10194195710468067065"
     },
     "user_tz": -330
    },
    "id": "j6BzSpd-UBYG",
    "outputId": "73e23c74-aa4e-4d3d-ca40-f9da9cb0e76c"
   },
   "outputs": [
    {
     "name": "stdout",
     "output_type": "stream",
     "text": [
      "Mounted at /content/drive\n"
     ]
    }
   ],
   "source": [
    "# Load the Drive helper and mount, ref link:https://stackoverflow.com/questions/47744131/colaboratory-can-i-access-to-my-google-drive-folder-and-file\n",
    "from google.colab import drive\n",
    "drive.mount('/content/drive')"
   ]
  },
  {
   "cell_type": "code",
   "execution_count": 2,
   "metadata": {
    "colab": {
     "base_uri": "https://localhost:8080/",
     "height": 226
    },
    "executionInfo": {
     "elapsed": 804,
     "status": "ok",
     "timestamp": 1639641207411,
     "user": {
      "displayName": "Kuldeep Joshi",
      "photoUrl": "https://lh3.googleusercontent.com/a-/AOh14GiJ4WNwl1G6NPV39M0GVQrsKWORGyLmIPpbMlQSA_w=s64",
      "userId": "10194195710468067065"
     },
     "user_tz": -330
    },
    "id": "iS0QjDaPdaLH",
    "outputId": "cc1b5b93-632b-4957-a7d9-c50794763ed5"
   },
   "outputs": [
    {
     "data": {
      "text/html": [
       "<div>\n",
       "<style scoped>\n",
       "    .dataframe tbody tr th:only-of-type {\n",
       "        vertical-align: middle;\n",
       "    }\n",
       "\n",
       "    .dataframe tbody tr th {\n",
       "        vertical-align: top;\n",
       "    }\n",
       "\n",
       "    .dataframe thead th {\n",
       "        text-align: right;\n",
       "    }\n",
       "</style>\n",
       "<table border=\"1\" class=\"dataframe\">\n",
       "  <thead>\n",
       "    <tr style=\"text-align: right;\">\n",
       "      <th></th>\n",
       "      <th>url</th>\n",
       "      <th>url_having_IP_Address</th>\n",
       "      <th>url_having_at_symbol</th>\n",
       "      <th>url_length</th>\n",
       "      <th>url_depth</th>\n",
       "      <th>url_redirection</th>\n",
       "      <th>url_http_domain</th>\n",
       "      <th>url_sortining_service</th>\n",
       "      <th>url_prefix_suffix</th>\n",
       "      <th>url_standard_port</th>\n",
       "      <th>...</th>\n",
       "      <th>page_pop_up</th>\n",
       "      <th>page_iframe</th>\n",
       "      <th>page_website_forwarding</th>\n",
       "      <th>link_pointing_to_the_page</th>\n",
       "      <th>submit_email</th>\n",
       "      <th>redirection_count</th>\n",
       "      <th>server_from_handler</th>\n",
       "      <th>page_favicon</th>\n",
       "      <th>ssl_state</th>\n",
       "      <th>result</th>\n",
       "    </tr>\n",
       "  </thead>\n",
       "  <tbody>\n",
       "    <tr>\n",
       "      <th>0</th>\n",
       "      <td>http://www.google.com</td>\n",
       "      <td>0</td>\n",
       "      <td>0</td>\n",
       "      <td>21</td>\n",
       "      <td>0</td>\n",
       "      <td>1</td>\n",
       "      <td>0</td>\n",
       "      <td>0</td>\n",
       "      <td>0</td>\n",
       "      <td>1</td>\n",
       "      <td>...</td>\n",
       "      <td>1.0</td>\n",
       "      <td>0.0</td>\n",
       "      <td>0.0</td>\n",
       "      <td>1.0</td>\n",
       "      <td>1.0</td>\n",
       "      <td>1.0</td>\n",
       "      <td>-1</td>\n",
       "      <td>NaN</td>\n",
       "      <td>0</td>\n",
       "      <td>0</td>\n",
       "    </tr>\n",
       "    <tr>\n",
       "      <th>1</th>\n",
       "      <td>http://presence.teams.microsoft.com</td>\n",
       "      <td>0</td>\n",
       "      <td>0</td>\n",
       "      <td>35</td>\n",
       "      <td>0</td>\n",
       "      <td>1</td>\n",
       "      <td>0</td>\n",
       "      <td>1</td>\n",
       "      <td>0</td>\n",
       "      <td>1</td>\n",
       "      <td>...</td>\n",
       "      <td>1.0</td>\n",
       "      <td>1.0</td>\n",
       "      <td>1.0</td>\n",
       "      <td>1.0</td>\n",
       "      <td>1.0</td>\n",
       "      <td>1.0</td>\n",
       "      <td>1</td>\n",
       "      <td>1.0</td>\n",
       "      <td>1</td>\n",
       "      <td>0</td>\n",
       "    </tr>\n",
       "    <tr>\n",
       "      <th>2</th>\n",
       "      <td>http://windows.com</td>\n",
       "      <td>0</td>\n",
       "      <td>0</td>\n",
       "      <td>18</td>\n",
       "      <td>0</td>\n",
       "      <td>1</td>\n",
       "      <td>0</td>\n",
       "      <td>0</td>\n",
       "      <td>0</td>\n",
       "      <td>1</td>\n",
       "      <td>...</td>\n",
       "      <td>1.0</td>\n",
       "      <td>0.0</td>\n",
       "      <td>1.0</td>\n",
       "      <td>1.0</td>\n",
       "      <td>1.0</td>\n",
       "      <td>-1.0</td>\n",
       "      <td>-1</td>\n",
       "      <td>1.0</td>\n",
       "      <td>0</td>\n",
       "      <td>0</td>\n",
       "    </tr>\n",
       "    <tr>\n",
       "      <th>3</th>\n",
       "      <td>http://opendns.com</td>\n",
       "      <td>0</td>\n",
       "      <td>0</td>\n",
       "      <td>18</td>\n",
       "      <td>0</td>\n",
       "      <td>1</td>\n",
       "      <td>0</td>\n",
       "      <td>0</td>\n",
       "      <td>0</td>\n",
       "      <td>1</td>\n",
       "      <td>...</td>\n",
       "      <td>1.0</td>\n",
       "      <td>0.0</td>\n",
       "      <td>1.0</td>\n",
       "      <td>1.0</td>\n",
       "      <td>1.0</td>\n",
       "      <td>-1.0</td>\n",
       "      <td>0</td>\n",
       "      <td>0.0</td>\n",
       "      <td>0</td>\n",
       "      <td>0</td>\n",
       "    </tr>\n",
       "    <tr>\n",
       "      <th>4</th>\n",
       "      <td>http://dns.msftncsi.com</td>\n",
       "      <td>0</td>\n",
       "      <td>0</td>\n",
       "      <td>23</td>\n",
       "      <td>0</td>\n",
       "      <td>1</td>\n",
       "      <td>0</td>\n",
       "      <td>0</td>\n",
       "      <td>0</td>\n",
       "      <td>1</td>\n",
       "      <td>...</td>\n",
       "      <td>1.0</td>\n",
       "      <td>1.0</td>\n",
       "      <td>1.0</td>\n",
       "      <td>1.0</td>\n",
       "      <td>1.0</td>\n",
       "      <td>1.0</td>\n",
       "      <td>1</td>\n",
       "      <td>1.0</td>\n",
       "      <td>1</td>\n",
       "      <td>0</td>\n",
       "    </tr>\n",
       "  </tbody>\n",
       "</table>\n",
       "<p>5 rows × 27 columns</p>\n",
       "</div>"
      ],
      "text/plain": [
       "                                   url  url_having_IP_Address  \\\n",
       "0                http://www.google.com                      0   \n",
       "1  http://presence.teams.microsoft.com                      0   \n",
       "2                   http://windows.com                      0   \n",
       "3                   http://opendns.com                      0   \n",
       "4              http://dns.msftncsi.com                      0   \n",
       "\n",
       "   url_having_at_symbol  url_length  url_depth  url_redirection  \\\n",
       "0                     0          21          0                1   \n",
       "1                     0          35          0                1   \n",
       "2                     0          18          0                1   \n",
       "3                     0          18          0                1   \n",
       "4                     0          23          0                1   \n",
       "\n",
       "   url_http_domain  url_sortining_service  url_prefix_suffix  \\\n",
       "0                0                      0                  0   \n",
       "1                0                      1                  0   \n",
       "2                0                      0                  0   \n",
       "3                0                      0                  0   \n",
       "4                0                      0                  0   \n",
       "\n",
       "   url_standard_port  ...  page_pop_up  page_iframe  page_website_forwarding  \\\n",
       "0                  1  ...          1.0          0.0                      0.0   \n",
       "1                  1  ...          1.0          1.0                      1.0   \n",
       "2                  1  ...          1.0          0.0                      1.0   \n",
       "3                  1  ...          1.0          0.0                      1.0   \n",
       "4                  1  ...          1.0          1.0                      1.0   \n",
       "\n",
       "   link_pointing_to_the_page  submit_email  redirection_count  \\\n",
       "0                        1.0           1.0                1.0   \n",
       "1                        1.0           1.0                1.0   \n",
       "2                        1.0           1.0               -1.0   \n",
       "3                        1.0           1.0               -1.0   \n",
       "4                        1.0           1.0                1.0   \n",
       "\n",
       "   server_from_handler  page_favicon  ssl_state  result  \n",
       "0                   -1           NaN          0       0  \n",
       "1                    1           1.0          1       0  \n",
       "2                   -1           1.0          0       0  \n",
       "3                    0           0.0          0       0  \n",
       "4                    1           1.0          1       0  \n",
       "\n",
       "[5 rows x 27 columns]"
      ]
     },
     "execution_count": 2,
     "metadata": {},
     "output_type": "execute_result"
    }
   ],
   "source": [
    "final_df = pd.read_csv('/content/drive/MyDrive/AppliedAI Course Assignments/Machine Learning/Case Study/Phishing Domain Detection/final.csv')\n",
    "final_df.head()"
   ]
  },
  {
   "cell_type": "code",
   "execution_count": 3,
   "metadata": {
    "colab": {
     "base_uri": "https://localhost:8080/"
    },
    "executionInfo": {
     "elapsed": 19,
     "status": "ok",
     "timestamp": 1639641207413,
     "user": {
      "displayName": "Kuldeep Joshi",
      "photoUrl": "https://lh3.googleusercontent.com/a-/AOh14GiJ4WNwl1G6NPV39M0GVQrsKWORGyLmIPpbMlQSA_w=s64",
      "userId": "10194195710468067065"
     },
     "user_tz": -330
    },
    "id": "vaA1WJQJdaHr",
    "outputId": "709a72d3-706b-40be-b650-174c90eb0e1f"
   },
   "outputs": [
    {
     "data": {
      "text/plain": [
       "(22932, 27)"
      ]
     },
     "execution_count": 3,
     "metadata": {},
     "output_type": "execute_result"
    }
   ],
   "source": [
    "final_df.shape"
   ]
  },
  {
   "cell_type": "markdown",
   "metadata": {
    "id": "sLMh6uN9kzE5"
   },
   "source": [
    "*This dataset contains 22932 rows/samples and 27 columns/features.*\n",
    "\n",
    "\n"
   ]
  },
  {
   "cell_type": "markdown",
   "metadata": {
    "id": "X8Od_fcb7nc_"
   },
   "source": [
    "### Splitting the dataset to avoid data leakage"
   ]
  },
  {
   "cell_type": "code",
   "execution_count": 4,
   "metadata": {
    "id": "m5aqrApO7sPN"
   },
   "outputs": [],
   "source": [
    "from sklearn.model_selection import train_test_split"
   ]
  },
  {
   "cell_type": "code",
   "execution_count": 5,
   "metadata": {
    "id": "QfSDs1197sLO"
   },
   "outputs": [],
   "source": [
    "X = final_df.drop(columns = ['result'])\n",
    "y = final_df.result\n",
    "\n",
    "X_train, X_test, y_train, y_test = train_test_split(X, y, test_size= 0.2, stratify= y, random_state= 10)"
   ]
  },
  {
   "cell_type": "code",
   "execution_count": 6,
   "metadata": {
    "colab": {
     "base_uri": "https://localhost:8080/"
    },
    "executionInfo": {
     "elapsed": 5,
     "status": "ok",
     "timestamp": 1639641213022,
     "user": {
      "displayName": "Kuldeep Joshi",
      "photoUrl": "https://lh3.googleusercontent.com/a-/AOh14GiJ4WNwl1G6NPV39M0GVQrsKWORGyLmIPpbMlQSA_w=s64",
      "userId": "10194195710468067065"
     },
     "user_tz": -330
    },
    "id": "U8h62dN68vav",
    "outputId": "1fc2a516-a73c-4a89-f85a-81fa6c5e12a3"
   },
   "outputs": [
    {
     "name": "stdout",
     "output_type": "stream",
     "text": [
      "shape of X_train:  (18345, 26)\n",
      "shape of X_test:  (4587, 26)\n"
     ]
    }
   ],
   "source": [
    "print('shape of X_train: ', X_train.shape)\n",
    "print('shape of X_test: ', X_test.shape)"
   ]
  },
  {
   "cell_type": "code",
   "execution_count": 7,
   "metadata": {
    "id": "AaQVHw-SQY1J"
   },
   "outputs": [],
   "source": [
    "X_train['result'] = y_train\n",
    "X_test['result'] = y_test"
   ]
  },
  {
   "cell_type": "markdown",
   "metadata": {
    "id": "CjdT8qhfUXsT"
   },
   "source": [
    "\n",
    "## Exploratory Data Analysis"
   ]
  },
  {
   "cell_type": "markdown",
   "metadata": {
    "id": "JFVs-5ytU-d_"
   },
   "source": [
    "> Data types and missing values"
   ]
  },
  {
   "cell_type": "code",
   "execution_count": null,
   "metadata": {
    "colab": {
     "base_uri": "https://localhost:8080/"
    },
    "executionInfo": {
     "elapsed": 871,
     "status": "ok",
     "timestamp": 1639384850817,
     "user": {
      "displayName": "Kuldeep Joshi",
      "photoUrl": "https://lh3.googleusercontent.com/a-/AOh14GiJ4WNwl1G6NPV39M0GVQrsKWORGyLmIPpbMlQSA_w=s64",
      "userId": "10194195710468067065"
     },
     "user_tz": -330
    },
    "id": "wElq4gBmUiBz",
    "outputId": "0b7f42eb-210c-4765-fce7-4a8465201dab"
   },
   "outputs": [
    {
     "name": "stdout",
     "output_type": "stream",
     "text": [
      "<class 'pandas.core.frame.DataFrame'>\n",
      "Int64Index: 18345 entries, 11992 to 18551\n",
      "Data columns (total 27 columns):\n",
      " #   Column                      Non-Null Count  Dtype  \n",
      "---  ------                      --------------  -----  \n",
      " 0   url                         18345 non-null  object \n",
      " 1   url_having_IP_Address       18345 non-null  int64  \n",
      " 2   url_having_at_symbol        18345 non-null  int64  \n",
      " 3   url_length                  18345 non-null  int64  \n",
      " 4   url_depth                   18345 non-null  int64  \n",
      " 5   url_redirection             18345 non-null  int64  \n",
      " 6   url_http_domain             18345 non-null  int64  \n",
      " 7   url_sortining_service       18345 non-null  int64  \n",
      " 8   url_prefix_suffix           18345 non-null  int64  \n",
      " 9   url_standard_port           18345 non-null  int64  \n",
      " 10  url_google_index            18345 non-null  int64  \n",
      " 11  dns_record                  18345 non-null  int64  \n",
      " 12  domain_age                  18345 non-null  int64  \n",
      " 13  domain_registration_length  18345 non-null  int64  \n",
      " 14  statistical_report          16161 non-null  float64\n",
      " 15  page_mouse_over             18345 non-null  int64  \n",
      " 16  page_right_click_disable    18345 non-null  int64  \n",
      " 17  page_pop_up                 18344 non-null  float64\n",
      " 18  page_iframe                 18343 non-null  float64\n",
      " 19  page_website_forwarding     18342 non-null  float64\n",
      " 20  link_pointing_to_the_page   18323 non-null  float64\n",
      " 21  submit_email                18321 non-null  float64\n",
      " 22  redirection_count           18315 non-null  float64\n",
      " 23  server_from_handler         18345 non-null  int64  \n",
      " 24  page_favicon                11586 non-null  float64\n",
      " 25  ssl_state                   18345 non-null  int64  \n",
      " 26  result                      18345 non-null  int64  \n",
      "dtypes: float64(8), int64(18), object(1)\n",
      "memory usage: 3.9+ MB\n"
     ]
    }
   ],
   "source": [
    "X_train.info()"
   ]
  },
  {
   "cell_type": "markdown",
   "metadata": {
    "id": "iFxEVPESk-ax"
   },
   "source": [
    "**Insights**: \n",
    "\n",
    "This dataset is having null values in 8 columns: \n",
    "\n",
    "statistical_report, page_pop_up, page_iframe,  page_website_forwarding link_pointing_to_the_page, submit_email, redirection_count and page_favicon.\n",
    "\n",
    "Column url is textual data.\n",
    "\n",
    "Column result is our target feature. \n"
   ]
  },
  {
   "cell_type": "markdown",
   "metadata": {
    "id": "v7NS9Q7rU76-"
   },
   "source": [
    "> Descriptive statistics"
   ]
  },
  {
   "cell_type": "code",
   "execution_count": null,
   "metadata": {
    "colab": {
     "base_uri": "https://localhost:8080/",
     "height": 320
    },
    "executionInfo": {
     "elapsed": 8,
     "status": "ok",
     "timestamp": 1639384852797,
     "user": {
      "displayName": "Kuldeep Joshi",
      "photoUrl": "https://lh3.googleusercontent.com/a-/AOh14GiJ4WNwl1G6NPV39M0GVQrsKWORGyLmIPpbMlQSA_w=s64",
      "userId": "10194195710468067065"
     },
     "user_tz": -330
    },
    "id": "IYoylC6eVCvQ",
    "outputId": "56ebdbc8-5015-4891-bc18-cf1405c6fd96"
   },
   "outputs": [
    {
     "data": {
      "text/html": [
       "<div>\n",
       "<style scoped>\n",
       "    .dataframe tbody tr th:only-of-type {\n",
       "        vertical-align: middle;\n",
       "    }\n",
       "\n",
       "    .dataframe tbody tr th {\n",
       "        vertical-align: top;\n",
       "    }\n",
       "\n",
       "    .dataframe thead th {\n",
       "        text-align: right;\n",
       "    }\n",
       "</style>\n",
       "<table border=\"1\" class=\"dataframe\">\n",
       "  <thead>\n",
       "    <tr style=\"text-align: right;\">\n",
       "      <th></th>\n",
       "      <th>url_having_IP_Address</th>\n",
       "      <th>url_having_at_symbol</th>\n",
       "      <th>url_length</th>\n",
       "      <th>url_depth</th>\n",
       "      <th>url_redirection</th>\n",
       "      <th>url_http_domain</th>\n",
       "      <th>url_sortining_service</th>\n",
       "      <th>url_prefix_suffix</th>\n",
       "      <th>url_standard_port</th>\n",
       "      <th>url_google_index</th>\n",
       "      <th>dns_record</th>\n",
       "      <th>domain_age</th>\n",
       "      <th>domain_registration_length</th>\n",
       "      <th>statistical_report</th>\n",
       "      <th>page_mouse_over</th>\n",
       "      <th>page_right_click_disable</th>\n",
       "      <th>page_pop_up</th>\n",
       "      <th>page_iframe</th>\n",
       "      <th>page_website_forwarding</th>\n",
       "      <th>link_pointing_to_the_page</th>\n",
       "      <th>submit_email</th>\n",
       "      <th>redirection_count</th>\n",
       "      <th>server_from_handler</th>\n",
       "      <th>page_favicon</th>\n",
       "      <th>ssl_state</th>\n",
       "      <th>result</th>\n",
       "    </tr>\n",
       "  </thead>\n",
       "  <tbody>\n",
       "    <tr>\n",
       "      <th>count</th>\n",
       "      <td>18345.0</td>\n",
       "      <td>18345.000000</td>\n",
       "      <td>18345.000000</td>\n",
       "      <td>18345.000000</td>\n",
       "      <td>18345.000000</td>\n",
       "      <td>18345.000000</td>\n",
       "      <td>18345.000000</td>\n",
       "      <td>18345.000000</td>\n",
       "      <td>18345.000000</td>\n",
       "      <td>18345.000000</td>\n",
       "      <td>18345.000000</td>\n",
       "      <td>18345.000000</td>\n",
       "      <td>18345.0</td>\n",
       "      <td>16161.000000</td>\n",
       "      <td>18345.000000</td>\n",
       "      <td>18345.000000</td>\n",
       "      <td>18344.000000</td>\n",
       "      <td>18343.000000</td>\n",
       "      <td>18342.000000</td>\n",
       "      <td>18323.000000</td>\n",
       "      <td>18321.000000</td>\n",
       "      <td>18315.000000</td>\n",
       "      <td>18345.000000</td>\n",
       "      <td>11586.000000</td>\n",
       "      <td>18345.000000</td>\n",
       "      <td>18345.000000</td>\n",
       "    </tr>\n",
       "    <tr>\n",
       "      <th>mean</th>\n",
       "      <td>0.0</td>\n",
       "      <td>0.024748</td>\n",
       "      <td>51.061216</td>\n",
       "      <td>0.961679</td>\n",
       "      <td>0.999836</td>\n",
       "      <td>0.346089</td>\n",
       "      <td>0.093159</td>\n",
       "      <td>0.269447</td>\n",
       "      <td>0.999836</td>\n",
       "      <td>0.563914</td>\n",
       "      <td>0.047043</td>\n",
       "      <td>0.319869</td>\n",
       "      <td>1.0</td>\n",
       "      <td>0.000557</td>\n",
       "      <td>0.266939</td>\n",
       "      <td>0.999618</td>\n",
       "      <td>0.985281</td>\n",
       "      <td>0.313962</td>\n",
       "      <td>0.283339</td>\n",
       "      <td>0.326366</td>\n",
       "      <td>0.942252</td>\n",
       "      <td>0.880753</td>\n",
       "      <td>0.141019</td>\n",
       "      <td>0.735802</td>\n",
       "      <td>0.274625</td>\n",
       "      <td>0.563914</td>\n",
       "    </tr>\n",
       "    <tr>\n",
       "      <th>std</th>\n",
       "      <td>0.0</td>\n",
       "      <td>0.155360</td>\n",
       "      <td>127.826314</td>\n",
       "      <td>1.611939</td>\n",
       "      <td>0.012787</td>\n",
       "      <td>0.475735</td>\n",
       "      <td>0.290663</td>\n",
       "      <td>0.443684</td>\n",
       "      <td>0.012787</td>\n",
       "      <td>0.495912</td>\n",
       "      <td>0.211736</td>\n",
       "      <td>0.466438</td>\n",
       "      <td>0.0</td>\n",
       "      <td>0.023593</td>\n",
       "      <td>0.442619</td>\n",
       "      <td>0.019531</td>\n",
       "      <td>0.120428</td>\n",
       "      <td>0.466223</td>\n",
       "      <td>0.451357</td>\n",
       "      <td>0.689099</td>\n",
       "      <td>0.239507</td>\n",
       "      <td>0.468138</td>\n",
       "      <td>0.623977</td>\n",
       "      <td>0.440924</td>\n",
       "      <td>0.446337</td>\n",
       "      <td>0.495912</td>\n",
       "    </tr>\n",
       "    <tr>\n",
       "      <th>min</th>\n",
       "      <td>0.0</td>\n",
       "      <td>0.000000</td>\n",
       "      <td>10.000000</td>\n",
       "      <td>0.000000</td>\n",
       "      <td>0.000000</td>\n",
       "      <td>0.000000</td>\n",
       "      <td>0.000000</td>\n",
       "      <td>0.000000</td>\n",
       "      <td>0.000000</td>\n",
       "      <td>0.000000</td>\n",
       "      <td>0.000000</td>\n",
       "      <td>0.000000</td>\n",
       "      <td>1.0</td>\n",
       "      <td>0.000000</td>\n",
       "      <td>-1.000000</td>\n",
       "      <td>0.000000</td>\n",
       "      <td>0.000000</td>\n",
       "      <td>-1.000000</td>\n",
       "      <td>-1.000000</td>\n",
       "      <td>-1.000000</td>\n",
       "      <td>-1.000000</td>\n",
       "      <td>-1.000000</td>\n",
       "      <td>-1.000000</td>\n",
       "      <td>0.000000</td>\n",
       "      <td>0.000000</td>\n",
       "      <td>0.000000</td>\n",
       "    </tr>\n",
       "    <tr>\n",
       "      <th>25%</th>\n",
       "      <td>0.0</td>\n",
       "      <td>0.000000</td>\n",
       "      <td>25.000000</td>\n",
       "      <td>0.000000</td>\n",
       "      <td>1.000000</td>\n",
       "      <td>0.000000</td>\n",
       "      <td>0.000000</td>\n",
       "      <td>0.000000</td>\n",
       "      <td>1.000000</td>\n",
       "      <td>0.000000</td>\n",
       "      <td>0.000000</td>\n",
       "      <td>0.000000</td>\n",
       "      <td>1.0</td>\n",
       "      <td>0.000000</td>\n",
       "      <td>0.000000</td>\n",
       "      <td>1.000000</td>\n",
       "      <td>1.000000</td>\n",
       "      <td>0.000000</td>\n",
       "      <td>0.000000</td>\n",
       "      <td>0.000000</td>\n",
       "      <td>1.000000</td>\n",
       "      <td>1.000000</td>\n",
       "      <td>0.000000</td>\n",
       "      <td>0.000000</td>\n",
       "      <td>0.000000</td>\n",
       "      <td>0.000000</td>\n",
       "    </tr>\n",
       "    <tr>\n",
       "      <th>50%</th>\n",
       "      <td>0.0</td>\n",
       "      <td>0.000000</td>\n",
       "      <td>35.000000</td>\n",
       "      <td>0.000000</td>\n",
       "      <td>1.000000</td>\n",
       "      <td>0.000000</td>\n",
       "      <td>0.000000</td>\n",
       "      <td>0.000000</td>\n",
       "      <td>1.000000</td>\n",
       "      <td>1.000000</td>\n",
       "      <td>0.000000</td>\n",
       "      <td>0.000000</td>\n",
       "      <td>1.0</td>\n",
       "      <td>0.000000</td>\n",
       "      <td>0.000000</td>\n",
       "      <td>1.000000</td>\n",
       "      <td>1.000000</td>\n",
       "      <td>0.000000</td>\n",
       "      <td>0.000000</td>\n",
       "      <td>0.000000</td>\n",
       "      <td>1.000000</td>\n",
       "      <td>1.000000</td>\n",
       "      <td>0.000000</td>\n",
       "      <td>1.000000</td>\n",
       "      <td>0.000000</td>\n",
       "      <td>1.000000</td>\n",
       "    </tr>\n",
       "    <tr>\n",
       "      <th>75%</th>\n",
       "      <td>0.0</td>\n",
       "      <td>0.000000</td>\n",
       "      <td>52.000000</td>\n",
       "      <td>1.000000</td>\n",
       "      <td>1.000000</td>\n",
       "      <td>1.000000</td>\n",
       "      <td>0.000000</td>\n",
       "      <td>1.000000</td>\n",
       "      <td>1.000000</td>\n",
       "      <td>1.000000</td>\n",
       "      <td>0.000000</td>\n",
       "      <td>1.000000</td>\n",
       "      <td>1.0</td>\n",
       "      <td>0.000000</td>\n",
       "      <td>1.000000</td>\n",
       "      <td>1.000000</td>\n",
       "      <td>1.000000</td>\n",
       "      <td>1.000000</td>\n",
       "      <td>1.000000</td>\n",
       "      <td>1.000000</td>\n",
       "      <td>1.000000</td>\n",
       "      <td>1.000000</td>\n",
       "      <td>1.000000</td>\n",
       "      <td>1.000000</td>\n",
       "      <td>1.000000</td>\n",
       "      <td>1.000000</td>\n",
       "    </tr>\n",
       "    <tr>\n",
       "      <th>max</th>\n",
       "      <td>0.0</td>\n",
       "      <td>1.000000</td>\n",
       "      <td>15375.000000</td>\n",
       "      <td>16.000000</td>\n",
       "      <td>1.000000</td>\n",
       "      <td>1.000000</td>\n",
       "      <td>1.000000</td>\n",
       "      <td>1.000000</td>\n",
       "      <td>1.000000</td>\n",
       "      <td>1.000000</td>\n",
       "      <td>1.000000</td>\n",
       "      <td>1.000000</td>\n",
       "      <td>1.0</td>\n",
       "      <td>1.000000</td>\n",
       "      <td>1.000000</td>\n",
       "      <td>1.000000</td>\n",
       "      <td>1.000000</td>\n",
       "      <td>1.000000</td>\n",
       "      <td>1.000000</td>\n",
       "      <td>1.000000</td>\n",
       "      <td>1.000000</td>\n",
       "      <td>1.000000</td>\n",
       "      <td>1.000000</td>\n",
       "      <td>1.000000</td>\n",
       "      <td>1.000000</td>\n",
       "      <td>1.000000</td>\n",
       "    </tr>\n",
       "  </tbody>\n",
       "</table>\n",
       "</div>"
      ],
      "text/plain": [
       "       url_having_IP_Address  url_having_at_symbol  ...     ssl_state        result\n",
       "count                18345.0          18345.000000  ...  18345.000000  18345.000000\n",
       "mean                     0.0              0.024748  ...      0.274625      0.563914\n",
       "std                      0.0              0.155360  ...      0.446337      0.495912\n",
       "min                      0.0              0.000000  ...      0.000000      0.000000\n",
       "25%                      0.0              0.000000  ...      0.000000      0.000000\n",
       "50%                      0.0              0.000000  ...      0.000000      1.000000\n",
       "75%                      0.0              0.000000  ...      1.000000      1.000000\n",
       "max                      0.0              1.000000  ...      1.000000      1.000000\n",
       "\n",
       "[8 rows x 26 columns]"
      ]
     },
     "execution_count": 9,
     "metadata": {},
     "output_type": "execute_result"
    }
   ],
   "source": [
    "X_train.describe()"
   ]
  },
  {
   "cell_type": "markdown",
   "metadata": {
    "id": "-Ksf0AmDVDBf"
   },
   "source": [
    "> Constant features\n",
    "\n",
    "*Those features that contains only one value for all the observations, they donot provide any information in classifying the task so  its better to remove such bad features*"
   ]
  },
  {
   "cell_type": "code",
   "execution_count": null,
   "metadata": {
    "colab": {
     "base_uri": "https://localhost:8080/",
     "height": 424
    },
    "executionInfo": {
     "elapsed": 614,
     "status": "ok",
     "timestamp": 1639384855788,
     "user": {
      "displayName": "Kuldeep Joshi",
      "photoUrl": "https://lh3.googleusercontent.com/a-/AOh14GiJ4WNwl1G6NPV39M0GVQrsKWORGyLmIPpbMlQSA_w=s64",
      "userId": "10194195710468067065"
     },
     "user_tz": -330
    },
    "id": "ZvCc_3x0VGVI",
    "outputId": "90e13a8a-2409-4d8d-b2df-5989a9797673"
   },
   "outputs": [
    {
     "data": {
      "text/html": [
       "<div>\n",
       "<style scoped>\n",
       "    .dataframe tbody tr th:only-of-type {\n",
       "        vertical-align: middle;\n",
       "    }\n",
       "\n",
       "    .dataframe tbody tr th {\n",
       "        vertical-align: top;\n",
       "    }\n",
       "\n",
       "    .dataframe thead th {\n",
       "        text-align: right;\n",
       "    }\n",
       "</style>\n",
       "<table border=\"1\" class=\"dataframe\">\n",
       "  <thead>\n",
       "    <tr style=\"text-align: right;\">\n",
       "      <th></th>\n",
       "      <th>url_having_IP_Address</th>\n",
       "      <th>domain_registration_length</th>\n",
       "    </tr>\n",
       "  </thead>\n",
       "  <tbody>\n",
       "    <tr>\n",
       "      <th>11992</th>\n",
       "      <td>0</td>\n",
       "      <td>1</td>\n",
       "    </tr>\n",
       "    <tr>\n",
       "      <th>5782</th>\n",
       "      <td>0</td>\n",
       "      <td>1</td>\n",
       "    </tr>\n",
       "    <tr>\n",
       "      <th>13559</th>\n",
       "      <td>0</td>\n",
       "      <td>1</td>\n",
       "    </tr>\n",
       "    <tr>\n",
       "      <th>14886</th>\n",
       "      <td>0</td>\n",
       "      <td>1</td>\n",
       "    </tr>\n",
       "    <tr>\n",
       "      <th>20961</th>\n",
       "      <td>0</td>\n",
       "      <td>1</td>\n",
       "    </tr>\n",
       "    <tr>\n",
       "      <th>...</th>\n",
       "      <td>...</td>\n",
       "      <td>...</td>\n",
       "    </tr>\n",
       "    <tr>\n",
       "      <th>3957</th>\n",
       "      <td>0</td>\n",
       "      <td>1</td>\n",
       "    </tr>\n",
       "    <tr>\n",
       "      <th>18083</th>\n",
       "      <td>0</td>\n",
       "      <td>1</td>\n",
       "    </tr>\n",
       "    <tr>\n",
       "      <th>11492</th>\n",
       "      <td>0</td>\n",
       "      <td>1</td>\n",
       "    </tr>\n",
       "    <tr>\n",
       "      <th>9715</th>\n",
       "      <td>0</td>\n",
       "      <td>1</td>\n",
       "    </tr>\n",
       "    <tr>\n",
       "      <th>18551</th>\n",
       "      <td>0</td>\n",
       "      <td>1</td>\n",
       "    </tr>\n",
       "  </tbody>\n",
       "</table>\n",
       "<p>18345 rows × 2 columns</p>\n",
       "</div>"
      ],
      "text/plain": [
       "       url_having_IP_Address  domain_registration_length\n",
       "11992                      0                           1\n",
       "5782                       0                           1\n",
       "13559                      0                           1\n",
       "14886                      0                           1\n",
       "20961                      0                           1\n",
       "...                      ...                         ...\n",
       "3957                       0                           1\n",
       "18083                      0                           1\n",
       "11492                      0                           1\n",
       "9715                       0                           1\n",
       "18551                      0                           1\n",
       "\n",
       "[18345 rows x 2 columns]"
      ]
     },
     "execution_count": 10,
     "metadata": {},
     "output_type": "execute_result"
    }
   ],
   "source": [
    "# https://stackoverflow.com/questions/20209600/pandas-dataframe-remove-constant-column\n",
    "X_train.loc[:,X_train.apply(pd.Series.nunique) == 1]"
   ]
  },
  {
   "cell_type": "markdown",
   "metadata": {
    "id": "_rbXR5hTmrep"
   },
   "source": [
    "*There are two constant features in this dataset*:     \n",
    "\n",
    "url_having_IP_Address, \tdomain_registration_length"
   ]
  },
  {
   "cell_type": "code",
   "execution_count": 8,
   "metadata": {
    "colab": {
     "base_uri": "https://localhost:8080/"
    },
    "executionInfo": {
     "elapsed": 502,
     "status": "ok",
     "timestamp": 1639641221514,
     "user": {
      "displayName": "Kuldeep Joshi",
      "photoUrl": "https://lh3.googleusercontent.com/a-/AOh14GiJ4WNwl1G6NPV39M0GVQrsKWORGyLmIPpbMlQSA_w=s64",
      "userId": "10194195710468067065"
     },
     "user_tz": -330
    },
    "id": "vdR9K4pIfyrd",
    "outputId": "a959730d-0ee9-433d-ae7d-ebc17a0166c4"
   },
   "outputs": [
    {
     "data": {
      "text/plain": [
       "(18345, 25)"
      ]
     },
     "execution_count": 8,
     "metadata": {},
     "output_type": "execute_result"
    }
   ],
   "source": [
    "# dropping constant urls\n",
    "X_train = X_train.loc[:,X_train.apply(pd.Series.nunique) != 1]\n",
    "X_train.shape"
   ]
  },
  {
   "cell_type": "markdown",
   "metadata": {
    "id": "IIJHdMVLgYTE"
   },
   "source": [
    "> **Handling missing values**"
   ]
  },
  {
   "cell_type": "code",
   "execution_count": null,
   "metadata": {
    "id": "Fu1D3N6iRQai"
   },
   "outputs": [],
   "source": [
    "# https://github.com/ResidentMario/missingno\n",
    "import missingno as msno"
   ]
  },
  {
   "cell_type": "code",
   "execution_count": null,
   "metadata": {
    "colab": {
     "base_uri": "https://localhost:8080/",
     "height": 728
    },
    "executionInfo": {
     "elapsed": 1330,
     "status": "ok",
     "timestamp": 1639384860647,
     "user": {
      "displayName": "Kuldeep Joshi",
      "photoUrl": "https://lh3.googleusercontent.com/a-/AOh14GiJ4WNwl1G6NPV39M0GVQrsKWORGyLmIPpbMlQSA_w=s64",
      "userId": "10194195710468067065"
     },
     "user_tz": -330
    },
    "id": "avIAgrH-SFda",
    "outputId": "438e1c38-fb15-4a3d-9cfb-acce535ce965"
   },
   "outputs": [
    {
     "data": {
      "text/plain": [
       "<matplotlib.axes._subplots.AxesSubplot at 0x7f8e5dd46b10>"
      ]
     },
     "execution_count": 13,
     "metadata": {},
     "output_type": "execute_result"
    },
    {
     "data": {
      "image/png": "[encoded data removed]",
      "text/plain": [
       "<Figure size 1800x720 with 2 Axes>"
      ]
     },
     "metadata": {
      "needs_background": "light"
     },
     "output_type": "display_data"
    }
   ],
   "source": [
    "# Gives positional information of the missing values\n",
    "msno.matrix(X_train.drop(columns = ['url', 'result']))"
   ]
  },
  {
   "cell_type": "code",
   "execution_count": null,
   "metadata": {
    "colab": {
     "base_uri": "https://localhost:8080/",
     "height": 711
    },
    "executionInfo": {
     "elapsed": 1107,
     "status": "ok",
     "timestamp": 1639384863838,
     "user": {
      "displayName": "Kuldeep Joshi",
      "photoUrl": "https://lh3.googleusercontent.com/a-/AOh14GiJ4WNwl1G6NPV39M0GVQrsKWORGyLmIPpbMlQSA_w=s64",
      "userId": "10194195710468067065"
     },
     "user_tz": -330
    },
    "id": "TismStjLRuLZ",
    "outputId": "d19362c3-b35c-4fcb-9585-680a64acfce5"
   },
   "outputs": [
    {
     "data": {
      "text/plain": [
       "<matplotlib.axes._subplots.AxesSubplot at 0x7f8e554428d0>"
      ]
     },
     "execution_count": 14,
     "metadata": {},
     "output_type": "execute_result"
    },
    {
     "data": {
      "image/png": "[encoded data removed]",
      "text/plain": [
       "<Figure size 1800x720 with 1 Axes>"
      ]
     },
     "metadata": {
      "needs_background": "light"
     },
     "output_type": "display_data"
    }
   ],
   "source": [
    "msno.dendrogram(X_train.drop(columns = ['url', 'result']))"
   ]
  },
  {
   "cell_type": "code",
   "execution_count": null,
   "metadata": {
    "colab": {
     "base_uri": "https://localhost:8080/"
    },
    "executionInfo": {
     "elapsed": 9,
     "status": "ok",
     "timestamp": 1639384866818,
     "user": {
      "displayName": "Kuldeep Joshi",
      "photoUrl": "https://lh3.googleusercontent.com/a-/AOh14GiJ4WNwl1G6NPV39M0GVQrsKWORGyLmIPpbMlQSA_w=s64",
      "userId": "10194195710468067065"
     },
     "user_tz": -330
    },
    "id": "LqbZwEw7wBil",
    "outputId": "38dd13f4-c7c4-4702-ef5f-81020af1b3a6"
   },
   "outputs": [
    {
     "data": {
      "text/plain": [
       "statistical_report           0.119052\n",
       "page_pop_up                  0.000055\n",
       "page_iframe                  0.000109\n",
       "page_website_forwarding      0.000164\n",
       "link_pointing_to_the_page    0.001199\n",
       "submit_email                 0.001308\n",
       "redirection_count            0.001635\n",
       "page_favicon                 0.368438\n",
       "dtype: float64"
      ]
     },
     "execution_count": 15,
     "metadata": {},
     "output_type": "execute_result"
    }
   ],
   "source": [
    "# percentage of data missing in features wrt. total no. of rows\n",
    " \n",
    "missing_variables = X_train.isnull().mean()[X_train.isnull().mean() != 0]\n",
    "missing_variables"
   ]
  },
  {
   "cell_type": "markdown",
   "metadata": {
    "id": "D8LlTlPJg3d7"
   },
   "source": [
    "To deal with null values there are many techniques like :    \n",
    "\n",
    "dropping the null values,\n",
    "\n",
    "replacing it with mean/mode/median\n",
    "\n",
    "imputing with most_frequent/ new category\n",
    "\n",
    "creating a new feature for the missing values\n",
    "\n",
    "using model based imputer etc.\n",
    "\n",
    "We must know what could be the reason of it: MCAR, MAR, MNAR. [link](https://www.youtube.com/watch?v=YpqUbirqFxQ)\n",
    "***************"
   ]
  },
  {
   "cell_type": "markdown",
   "metadata": {
    "id": "Z7g3E08myegY"
   },
   "source": [
    "> statistical_report"
   ]
  },
  {
   "cell_type": "code",
   "execution_count": null,
   "metadata": {
    "colab": {
     "base_uri": "https://localhost:8080/"
    },
    "executionInfo": {
     "elapsed": 615,
     "status": "ok",
     "timestamp": 1639384872334,
     "user": {
      "displayName": "Kuldeep Joshi",
      "photoUrl": "https://lh3.googleusercontent.com/a-/AOh14GiJ4WNwl1G6NPV39M0GVQrsKWORGyLmIPpbMlQSA_w=s64",
      "userId": "10194195710468067065"
     },
     "user_tz": -330
    },
    "id": "hutZuIlhgvv5",
    "outputId": "14571692-5371-4fdd-ab6b-94f7fa5bb66f"
   },
   "outputs": [
    {
     "data": {
      "text/plain": [
       "0.0    16152\n",
       "1.0        9\n",
       "Name: statistical_report, dtype: int64"
      ]
     },
     "execution_count": 16,
     "metadata": {},
     "output_type": "execute_result"
    }
   ],
   "source": [
    "X_train.statistical_report.value_counts()"
   ]
  },
  {
   "cell_type": "code",
   "execution_count": null,
   "metadata": {
    "colab": {
     "base_uri": "https://localhost:8080/"
    },
    "executionInfo": {
     "elapsed": 6,
     "status": "ok",
     "timestamp": 1639384874307,
     "user": {
      "displayName": "Kuldeep Joshi",
      "photoUrl": "https://lh3.googleusercontent.com/a-/AOh14GiJ4WNwl1G6NPV39M0GVQrsKWORGyLmIPpbMlQSA_w=s64",
      "userId": "10194195710468067065"
     },
     "user_tz": -330
    },
    "id": "L2h_hW1cxOYG",
    "outputId": "33d2543d-88e0-4ac3-fb1c-33ea8294cced"
   },
   "outputs": [
    {
     "data": {
      "text/plain": [
       "statistical_report\n",
       "0                     16161\n",
       "1                      2184\n",
       "dtype: int64"
      ]
     },
     "execution_count": 17,
     "metadata": {},
     "output_type": "execute_result"
    }
   ],
   "source": [
    "# replacing null values with 1 and not null values with 0\n",
    "missing_statistical_report = pd.DataFrame(np.where(X_train.statistical_report.isnull(), 1, 0), columns = ['statistical_report'])\n",
    "missing_statistical_report.value_counts()"
   ]
  },
  {
   "cell_type": "code",
   "execution_count": null,
   "metadata": {
    "colab": {
     "base_uri": "https://localhost:8080/"
    },
    "executionInfo": {
     "elapsed": 482,
     "status": "ok",
     "timestamp": 1639384876820,
     "user": {
      "displayName": "Kuldeep Joshi",
      "photoUrl": "https://lh3.googleusercontent.com/a-/AOh14GiJ4WNwl1G6NPV39M0GVQrsKWORGyLmIPpbMlQSA_w=s64",
      "userId": "10194195710468067065"
     },
     "user_tz": -330
    },
    "id": "CuiNaZVtxOP_",
    "outputId": "1af44bc1-3d03-450e-ef29-90c37d46dc43"
   },
   "outputs": [
    {
     "data": {
      "text/plain": [
       "statistical_report\n",
       "0    0.455797\n",
       "1    0.453205\n",
       "Name: result, dtype: float64"
      ]
     },
     "execution_count": 18,
     "metadata": {},
     "output_type": "execute_result"
    }
   ],
   "source": [
    "missing_statistical_report['result'] = X_train.result\n",
    "\n",
    "missing_statistical_report.groupby('statistical_report')['result'].mean()"
   ]
  },
  {
   "cell_type": "markdown",
   "metadata": {
    "id": "6xRXSPfv0W-X"
   },
   "source": [
    "There is no relation between the missingness of this feature and the dependent value, concluding it as Missing completely at random type."
   ]
  },
  {
   "cell_type": "code",
   "execution_count": 9,
   "metadata": {
    "colab": {
     "base_uri": "https://localhost:8080/"
    },
    "executionInfo": {
     "elapsed": 425,
     "status": "ok",
     "timestamp": 1639641240158,
     "user": {
      "displayName": "Kuldeep Joshi",
      "photoUrl": "https://lh3.googleusercontent.com/a-/AOh14GiJ4WNwl1G6NPV39M0GVQrsKWORGyLmIPpbMlQSA_w=s64",
      "userId": "10194195710468067065"
     },
     "user_tz": -330
    },
    "id": "37j-sgfwjVej",
    "outputId": "cb393fc2-7766-44e1-9c88-3736c298055f"
   },
   "outputs": [
    {
     "name": "stdout",
     "output_type": "stream",
     "text": [
      "(18345,)\n"
     ]
    },
    {
     "data": {
      "text/plain": [
       " 0.0    16152\n",
       "-1.0     2184\n",
       " 1.0        9\n",
       "Name: statistical_report, dtype: int64"
      ]
     },
     "execution_count": 9,
     "metadata": {},
     "output_type": "execute_result"
    }
   ],
   "source": [
    "# creating an unknown variable as -1\n",
    "\n",
    "X_train['statistical_report'] = X_train['statistical_report'].fillna(-1)\n",
    "print(X_train.statistical_report.shape)\n",
    "X_train.statistical_report.value_counts()"
   ]
  },
  {
   "cell_type": "markdown",
   "metadata": {
    "id": "FWOb44m4yiI7"
   },
   "source": [
    "> page_favicon"
   ]
  },
  {
   "cell_type": "code",
   "execution_count": null,
   "metadata": {
    "colab": {
     "base_uri": "https://localhost:8080/"
    },
    "executionInfo": {
     "elapsed": 823,
     "status": "ok",
     "timestamp": 1639384884510,
     "user": {
      "displayName": "Kuldeep Joshi",
      "photoUrl": "https://lh3.googleusercontent.com/a-/AOh14GiJ4WNwl1G6NPV39M0GVQrsKWORGyLmIPpbMlQSA_w=s64",
      "userId": "10194195710468067065"
     },
     "user_tz": -330
    },
    "id": "69EbYj5bjwkD",
    "outputId": "1240dda9-12bd-4578-a30f-358ee4860545"
   },
   "outputs": [
    {
     "data": {
      "text/plain": [
       "1.0    8525\n",
       "0.0    3061\n",
       "Name: page_favicon, dtype: int64"
      ]
     },
     "execution_count": 20,
     "metadata": {},
     "output_type": "execute_result"
    }
   ],
   "source": [
    "X_train.page_favicon.value_counts()"
   ]
  },
  {
   "cell_type": "code",
   "execution_count": null,
   "metadata": {
    "colab": {
     "base_uri": "https://localhost:8080/"
    },
    "executionInfo": {
     "elapsed": 5,
     "status": "ok",
     "timestamp": 1639384885359,
     "user": {
      "displayName": "Kuldeep Joshi",
      "photoUrl": "https://lh3.googleusercontent.com/a-/AOh14GiJ4WNwl1G6NPV39M0GVQrsKWORGyLmIPpbMlQSA_w=s64",
      "userId": "10194195710468067065"
     },
     "user_tz": -330
    },
    "id": "dek79gmgyFfs",
    "outputId": "4f530b3e-58b8-4cea-f12c-208a80078098"
   },
   "outputs": [
    {
     "data": {
      "text/plain": [
       "page_favicon\n",
       "0               11586\n",
       "1                6759\n",
       "dtype: int64"
      ]
     },
     "execution_count": 21,
     "metadata": {},
     "output_type": "execute_result"
    }
   ],
   "source": [
    "# replacing null values with 1 and not null values with 0\n",
    "missing_page_favicon = pd.DataFrame(np.where(X_train.page_favicon.isnull(), 1, 0), columns = ['page_favicon'])\n",
    "missing_page_favicon.value_counts()"
   ]
  },
  {
   "cell_type": "code",
   "execution_count": null,
   "metadata": {
    "colab": {
     "base_uri": "https://localhost:8080/"
    },
    "executionInfo": {
     "elapsed": 631,
     "status": "ok",
     "timestamp": 1639384888323,
     "user": {
      "displayName": "Kuldeep Joshi",
      "photoUrl": "https://lh3.googleusercontent.com/a-/AOh14GiJ4WNwl1G6NPV39M0GVQrsKWORGyLmIPpbMlQSA_w=s64",
      "userId": "10194195710468067065"
     },
     "user_tz": -330
    },
    "id": "FpQf8Tt2yOAZ",
    "outputId": "1d9ac85b-ab15-4673-e2d6-2fe9e5b1f9ff"
   },
   "outputs": [
    {
     "data": {
      "text/plain": [
       "page_favicon\n",
       "0    0.456293\n",
       "1    0.454089\n",
       "Name: result, dtype: float64"
      ]
     },
     "execution_count": 22,
     "metadata": {},
     "output_type": "execute_result"
    }
   ],
   "source": [
    "missing_page_favicon['result'] = X_train.result\n",
    "\n",
    "missing_page_favicon.groupby('page_favicon')['result'].mean()"
   ]
  },
  {
   "cell_type": "markdown",
   "metadata": {
    "id": "8dWEgfVp0O5b"
   },
   "source": [
    "This is Missing completely at random type. As the missing values are 36% rows of the total dataset so its better to create a new column than to drop it."
   ]
  },
  {
   "cell_type": "code",
   "execution_count": 10,
   "metadata": {
    "colab": {
     "base_uri": "https://localhost:8080/"
    },
    "executionInfo": {
     "elapsed": 450,
     "status": "ok",
     "timestamp": 1639641245381,
     "user": {
      "displayName": "Kuldeep Joshi",
      "photoUrl": "https://lh3.googleusercontent.com/a-/AOh14GiJ4WNwl1G6NPV39M0GVQrsKWORGyLmIPpbMlQSA_w=s64",
      "userId": "10194195710468067065"
     },
     "user_tz": -330
    },
    "id": "NLayrRefjyZd",
    "outputId": "aba9643f-a790-4d8a-fc3c-10f137a9d5a9"
   },
   "outputs": [
    {
     "name": "stdout",
     "output_type": "stream",
     "text": [
      "(18345,)\n"
     ]
    },
    {
     "data": {
      "text/plain": [
       " 1.0    8525\n",
       "-1.0    6759\n",
       " 0.0    3061\n",
       "Name: page_favicon, dtype: int64"
      ]
     },
     "execution_count": 10,
     "metadata": {},
     "output_type": "execute_result"
    }
   ],
   "source": [
    "X_train['page_favicon'] = X_train['page_favicon'].fillna(-1)\n",
    "print(X_train.page_favicon.shape)\n",
    "X_train.page_favicon.value_counts()"
   ]
  },
  {
   "cell_type": "markdown",
   "metadata": {
    "id": "sbB3fSZdyoaf"
   },
   "source": [
    "> redirection_count"
   ]
  },
  {
   "cell_type": "code",
   "execution_count": null,
   "metadata": {
    "colab": {
     "base_uri": "https://localhost:8080/"
    },
    "executionInfo": {
     "elapsed": 6,
     "status": "ok",
     "timestamp": 1639384892197,
     "user": {
      "displayName": "Kuldeep Joshi",
      "photoUrl": "https://lh3.googleusercontent.com/a-/AOh14GiJ4WNwl1G6NPV39M0GVQrsKWORGyLmIPpbMlQSA_w=s64",
      "userId": "10194195710468067065"
     },
     "user_tz": -330
    },
    "id": "cBd6Q2XOypNJ",
    "outputId": "14db83b9-a27f-4d9d-cca4-11ae036a444a"
   },
   "outputs": [
    {
     "data": {
      "text/plain": [
       "redirection_count\n",
       "0                    18315\n",
       "1                       30\n",
       "dtype: int64"
      ]
     },
     "execution_count": 24,
     "metadata": {},
     "output_type": "execute_result"
    }
   ],
   "source": [
    "# replacing null values with 1 and not null values with 0\n",
    "missing_redirection_count = pd.DataFrame(np.where(X_train.redirection_count.isnull(), 1, 0), columns = ['redirection_count'])\n",
    "missing_redirection_count.value_counts()"
   ]
  },
  {
   "cell_type": "code",
   "execution_count": null,
   "metadata": {
    "colab": {
     "base_uri": "https://localhost:8080/"
    },
    "executionInfo": {
     "elapsed": 5,
     "status": "ok",
     "timestamp": 1639384893109,
     "user": {
      "displayName": "Kuldeep Joshi",
      "photoUrl": "https://lh3.googleusercontent.com/a-/AOh14GiJ4WNwl1G6NPV39M0GVQrsKWORGyLmIPpbMlQSA_w=s64",
      "userId": "10194195710468067065"
     },
     "user_tz": -330
    },
    "id": "WU6_wucezBi3",
    "outputId": "a0dc373d-2f98-43c6-ed0a-b11b43c60fab"
   },
   "outputs": [
    {
     "data": {
      "text/plain": [
       "redirection_count\n",
       "0    0.455351\n",
       "1    0.545455\n",
       "Name: result, dtype: float64"
      ]
     },
     "execution_count": 25,
     "metadata": {},
     "output_type": "execute_result"
    }
   ],
   "source": [
    "missing_redirection_count['result'] = X_train.result\n",
    "\n",
    "missing_redirection_count.groupby('redirection_count')['result'].mean()"
   ]
  },
  {
   "cell_type": "code",
   "execution_count": 11,
   "metadata": {
    "id": "1EpN7bp93pqk"
   },
   "outputs": [],
   "source": [
    "# filling na with 1    \n",
    "X_train['redirection_count'] = X_train['redirection_count'].fillna(1)"
   ]
  },
  {
   "cell_type": "code",
   "execution_count": 12,
   "metadata": {
    "colab": {
     "base_uri": "https://localhost:8080/"
    },
    "executionInfo": {
     "elapsed": 8,
     "status": "ok",
     "timestamp": 1639641254702,
     "user": {
      "displayName": "Kuldeep Joshi",
      "photoUrl": "https://lh3.googleusercontent.com/a-/AOh14GiJ4WNwl1G6NPV39M0GVQrsKWORGyLmIPpbMlQSA_w=s64",
      "userId": "10194195710468067065"
     },
     "user_tz": -330
    },
    "id": "o5VDZVIPj_Vh",
    "outputId": "cd17e75f-a12a-406f-a78d-2587f00e725b"
   },
   "outputs": [
    {
     "data": {
      "text/plain": [
       "(18321, 24)"
      ]
     },
     "execution_count": 12,
     "metadata": {},
     "output_type": "execute_result"
    }
   ],
   "source": [
    "# drop the less frequent null value rows\n",
    "X_train.dropna(inplace = True)\n",
    "\n",
    "# drop textual feature\n",
    "X_train.drop(columns = ['url'], inplace= True)\n",
    "X_train.shape"
   ]
  },
  {
   "cell_type": "markdown",
   "metadata": {
    "id": "OXUL_0Q0VLt1"
   },
   "source": [
    "### Feature analysis"
   ]
  },
  {
   "cell_type": "code",
   "execution_count": null,
   "metadata": {
    "colab": {
     "base_uri": "https://localhost:8080/",
     "height": 353
    },
    "executionInfo": {
     "elapsed": 612,
     "status": "ok",
     "timestamp": 1639385005328,
     "user": {
      "displayName": "Kuldeep Joshi",
      "photoUrl": "https://lh3.googleusercontent.com/a-/AOh14GiJ4WNwl1G6NPV39M0GVQrsKWORGyLmIPpbMlQSA_w=s64",
      "userId": "10194195710468067065"
     },
     "user_tz": -330
    },
    "id": "2yAkLqoPVN0C",
    "outputId": "173d0af6-fa95-4931-bbf3-73b59d800340"
   },
   "outputs": [
    {
     "name": "stdout",
     "output_type": "stream",
     "text": [
      "Unique values in result column:  1    10333\n",
      "0     7988\n",
      "Name: result, dtype: int64\n"
     ]
    },
    {
     "data": {
      "text/plain": [
       "<matplotlib.axes._subplots.AxesSubplot at 0x7f8e553b9050>"
      ]
     },
     "execution_count": 28,
     "metadata": {},
     "output_type": "execute_result"
    },
    {
     "data": {
      "image/png": "[encoded data removed]",
      "text/plain": [
       "<Figure size 432x288 with 1 Axes>"
      ]
     },
     "metadata": {
      "needs_background": "light"
     },
     "output_type": "display_data"
    }
   ],
   "source": [
    "print('Unique values in result column: ',X_train.result.value_counts())\n",
    "\n",
    "sns.countplot(X_train.result)"
   ]
  },
  {
   "cell_type": "code",
   "execution_count": null,
   "metadata": {
    "colab": {
     "base_uri": "https://localhost:8080/"
    },
    "executionInfo": {
     "elapsed": 501,
     "status": "ok",
     "timestamp": 1639385013859,
     "user": {
      "displayName": "Kuldeep Joshi",
      "photoUrl": "https://lh3.googleusercontent.com/a-/AOh14GiJ4WNwl1G6NPV39M0GVQrsKWORGyLmIPpbMlQSA_w=s64",
      "userId": "10194195710468067065"
     },
     "user_tz": -330
    },
    "id": "i-uOc1hDn19L",
    "outputId": "fb5d052c-5b0e-4bcc-b087-46b2ce8e4fcc"
   },
   "outputs": [
    {
     "name": "stdout",
     "output_type": "stream",
     "text": [
      "% of phishing data points:  56.39975983843677\n",
      "% of legitimate data points:  43.60024016156323\n"
     ]
    }
   ],
   "source": [
    "phishing_points = X_train.result.value_counts()[1]\n",
    "legitimate_points = X_train.result.value_counts()[0]\n",
    "\n",
    "print('% of phishing data points: ', phishing_points/X_train.shape[0]*100)\n",
    "print('% of legitimate data points: ', legitimate_points/X_train.shape[0]*100)\n"
   ]
  },
  {
   "cell_type": "markdown",
   "metadata": {
    "id": "DmJJ_uwanWGC"
   },
   "source": [
    "*The result feature is having values 0 for legitimate data points and 1 for the phishing data points*.\n",
    "\n",
    "*There is slightly imbalanced dataset*."
   ]
  },
  {
   "cell_type": "markdown",
   "metadata": {
    "id": "7_n0qogZoiWO"
   },
   "source": [
    "#### url based features"
   ]
  },
  {
   "cell_type": "code",
   "execution_count": null,
   "metadata": {
    "colab": {
     "base_uri": "https://localhost:8080/"
    },
    "executionInfo": {
     "elapsed": 485,
     "status": "ok",
     "timestamp": 1639385125652,
     "user": {
      "displayName": "Kuldeep Joshi",
      "photoUrl": "https://lh3.googleusercontent.com/a-/AOh14GiJ4WNwl1G6NPV39M0GVQrsKWORGyLmIPpbMlQSA_w=s64",
      "userId": "10194195710468067065"
     },
     "user_tz": -330
    },
    "id": "HFddlrRYsSqB",
    "outputId": "3fb34aa4-09a0-42fc-c2a6-e81e3f49bd9d"
   },
   "outputs": [
    {
     "data": {
      "text/plain": [
       "Index(['url_having_at_symbol', 'url_length', 'url_depth', 'url_redirection',\n",
       "       'url_http_domain', 'url_sortining_service', 'url_prefix_suffix',\n",
       "       'url_standard_port', 'url_google_index'],\n",
       "      dtype='object')"
      ]
     },
     "execution_count": 34,
     "metadata": {},
     "output_type": "execute_result"
    }
   ],
   "source": [
    "col_names = X_train.columns[0:9]\n",
    "col_names"
   ]
  },
  {
   "cell_type": "code",
   "execution_count": null,
   "metadata": {
    "colab": {
     "base_uri": "https://localhost:8080/"
    },
    "executionInfo": {
     "elapsed": 493,
     "status": "ok",
     "timestamp": 1639385110849,
     "user": {
      "displayName": "Kuldeep Joshi",
      "photoUrl": "https://lh3.googleusercontent.com/a-/AOh14GiJ4WNwl1G6NPV39M0GVQrsKWORGyLmIPpbMlQSA_w=s64",
      "userId": "10194195710468067065"
     },
     "user_tz": -330
    },
    "id": "UAINfRh2shI1",
    "outputId": "aaae6d7c-9aea-47a9-d071-008dd3cf54dc"
   },
   "outputs": [
    {
     "name": "stdout",
     "output_type": "stream",
     "text": [
      "Unique values in url_having_at_symbol column:  0    17868\n",
      "1      453\n",
      "Name: url_having_at_symbol, dtype: int64\n",
      "**************************************************\n",
      "Unique values in url_length column:  22     959\n",
      "21     674\n",
      "28     585\n",
      "29     559\n",
      "30     550\n",
      "      ... \n",
      "472      1\n",
      "456      1\n",
      "440      1\n",
      "296      1\n",
      "471      1\n",
      "Name: url_length, Length: 373, dtype: int64\n",
      "**************************************************\n",
      "Unique values in url_depth column:  0     11225\n",
      "1      2666\n",
      "2      1700\n",
      "3      1187\n",
      "5       662\n",
      "4       504\n",
      "6       184\n",
      "7       109\n",
      "8        34\n",
      "9        16\n",
      "10       13\n",
      "12       11\n",
      "11        8\n",
      "15        1\n",
      "16        1\n",
      "Name: url_depth, dtype: int64\n",
      "**************************************************\n",
      "Unique values in url_redirection column:  1    18318\n",
      "0        3\n",
      "Name: url_redirection, dtype: int64\n",
      "**************************************************\n",
      "Unique values in url_http_domain column:  0    11979\n",
      "1     6342\n",
      "Name: url_http_domain, dtype: int64\n",
      "**************************************************\n",
      "Unique values in url_sortining_service column:  0    16616\n",
      "1     1705\n",
      "Name: url_sortining_service, dtype: int64\n",
      "**************************************************\n",
      "Unique values in url_prefix_suffix column:  0    13381\n",
      "1     4940\n",
      "Name: url_prefix_suffix, dtype: int64\n",
      "**************************************************\n",
      "Unique values in url_standard_port column:  1    18318\n",
      "0        3\n",
      "Name: url_standard_port, dtype: int64\n",
      "**************************************************\n",
      "Unique values in url_google_index column:  1    10333\n",
      "0     7988\n",
      "Name: url_google_index, dtype: int64\n",
      "**************************************************\n"
     ]
    }
   ],
   "source": [
    "for col in X_train.columns[0:9]:\n",
    "  print('Unique values in {} column: '.format(col), X_train[col].value_counts())\n",
    "  print('*'*50)"
   ]
  },
  {
   "cell_type": "markdown",
   "metadata": {
    "id": "Rcsenh0Ptn5S"
   },
   "source": [
    "*url_length and url_depth are numerical features whereas others are categorical features and numerically formatted as 0 and 1.*"
   ]
  },
  {
   "cell_type": "code",
   "execution_count": null,
   "metadata": {
    "id": "e5jaoWaOvoCV"
   },
   "outputs": [],
   "source": [
    "# https://stackoverflow.com/questions/31594549/how-to-change-the-figure-size-of-a-seaborn-axes-or-figure-level-plot\n",
    "sns.set(rc={'figure.figsize':(8,6)})"
   ]
  },
  {
   "cell_type": "markdown",
   "metadata": {
    "id": "KF4nNldK2z5h"
   },
   "source": [
    "> **url_length**"
   ]
  },
  {
   "cell_type": "code",
   "execution_count": null,
   "metadata": {
    "colab": {
     "base_uri": "https://localhost:8080/",
     "height": 413
    },
    "executionInfo": {
     "elapsed": 540,
     "status": "ok",
     "timestamp": 1639385133426,
     "user": {
      "displayName": "Kuldeep Joshi",
      "photoUrl": "https://lh3.googleusercontent.com/a-/AOh14GiJ4WNwl1G6NPV39M0GVQrsKWORGyLmIPpbMlQSA_w=s64",
      "userId": "10194195710468067065"
     },
     "user_tz": -330
    },
    "id": "bd9o0F2I4BO6",
    "outputId": "8984eb67-d14a-4a44-bd12-ef7ceceaba45"
   },
   "outputs": [
    {
     "data": {
      "text/plain": [
       "<matplotlib.axes._subplots.AxesSubplot at 0x7f8e74b4e190>"
      ]
     },
     "execution_count": 36,
     "metadata": {},
     "output_type": "execute_result"
    },
    {
     "data": {
      "image/png": "[encoded data removed]",
      "text/plain": [
       "<Figure size 576x432 with 1 Axes>"
      ]
     },
     "metadata": {},
     "output_type": "display_data"
    }
   ],
   "source": [
    "# type of distribution\n",
    "sns.distplot(X_train.url_length)"
   ]
  },
  {
   "cell_type": "markdown",
   "metadata": {
    "id": "XV8xak2x73T_"
   },
   "source": [
    "The distribution of url_length is highly positive skewed. There are a very few points bent towards the right side means few data points are having larger url length."
   ]
  },
  {
   "cell_type": "code",
   "execution_count": null,
   "metadata": {
    "colab": {
     "base_uri": "https://localhost:8080/",
     "height": 414
    },
    "executionInfo": {
     "elapsed": 624,
     "status": "ok",
     "timestamp": 1639385138722,
     "user": {
      "displayName": "Kuldeep Joshi",
      "photoUrl": "https://lh3.googleusercontent.com/a-/AOh14GiJ4WNwl1G6NPV39M0GVQrsKWORGyLmIPpbMlQSA_w=s64",
      "userId": "10194195710468067065"
     },
     "user_tz": -330
    },
    "id": "AtbOSALX8ZPC",
    "outputId": "9b21076f-fabf-468f-fb1e-22b4a9209175"
   },
   "outputs": [
    {
     "data": {
      "text/plain": [
       "<matplotlib.axes._subplots.AxesSubplot at 0x7f8e51557f10>"
      ]
     },
     "execution_count": 37,
     "metadata": {},
     "output_type": "execute_result"
    },
    {
     "data": {
      "image/png": "[encoded data removed]",
      "text/plain": [
       "<Figure size 576x432 with 1 Axes>"
      ]
     },
     "metadata": {},
     "output_type": "display_data"
    }
   ],
   "source": [
    "sns.boxplot(X_train.result, X_train.url_length, hue = X_train.result)"
   ]
  },
  {
   "cell_type": "markdown",
   "metadata": {
    "id": "zd4A7LvR-EqS"
   },
   "source": [
    "The above figure represents the url length is having outliers. "
   ]
  },
  {
   "cell_type": "markdown",
   "metadata": {
    "id": "ouRleGDCu84Q"
   },
   "source": [
    "> Removing outlier"
   ]
  },
  {
   "cell_type": "code",
   "execution_count": 13,
   "metadata": {
    "colab": {
     "base_uri": "https://localhost:8080/"
    },
    "executionInfo": {
     "elapsed": 458,
     "status": "ok",
     "timestamp": 1639641269754,
     "user": {
      "displayName": "Kuldeep Joshi",
      "photoUrl": "https://lh3.googleusercontent.com/a-/AOh14GiJ4WNwl1G6NPV39M0GVQrsKWORGyLmIPpbMlQSA_w=s64",
      "userId": "10194195710468067065"
     },
     "user_tz": -330
    },
    "id": "kpopv9yhxSMn",
    "outputId": "d4e468ed-bf57-450b-b271-3bb698a1c48e"
   },
   "outputs": [
    {
     "name": "stdout",
     "output_type": "stream",
     "text": [
      "first quantile is:  25.0\n",
      "third quantile is:  52.0\n"
     ]
    }
   ],
   "source": [
    "# outlier detection using quantiles\n",
    "\n",
    "quantile_first = X_train['url_length'].quantile(0.25)\n",
    "quantile_third = X_train['url_length'].quantile(0.75)\n",
    "\n",
    "print('first quantile is: ', quantile_first)\n",
    "print('third quantile is: ', quantile_third)"
   ]
  },
  {
   "cell_type": "code",
   "execution_count": 14,
   "metadata": {
    "colab": {
     "base_uri": "https://localhost:8080/"
    },
    "executionInfo": {
     "elapsed": 7,
     "status": "ok",
     "timestamp": 1639641270266,
     "user": {
      "displayName": "Kuldeep Joshi",
      "photoUrl": "https://lh3.googleusercontent.com/a-/AOh14GiJ4WNwl1G6NPV39M0GVQrsKWORGyLmIPpbMlQSA_w=s64",
      "userId": "10194195710468067065"
     },
     "user_tz": -330
    },
    "id": "v0hNt7h3y64-",
    "outputId": "7b358700-152c-4f6d-8587-40b134fea90f"
   },
   "outputs": [
    {
     "name": "stdout",
     "output_type": "stream",
     "text": [
      "lower limit:  -15.5\n",
      "upper limit:  92.5\n"
     ]
    }
   ],
   "source": [
    "# calculating iqr\n",
    "iqr = quantile_third - quantile_first\n",
    "\n",
    "# setting lower limit\n",
    "lower_val = quantile_first - 1.5*iqr\n",
    "print('lower limit: ', lower_val)\n",
    "\n",
    "# setting upper limit\n",
    "upper_val = quantile_third + 1.5*iqr\n",
    "print('upper limit: ', upper_val)"
   ]
  },
  {
   "cell_type": "code",
   "execution_count": 15,
   "metadata": {
    "colab": {
     "base_uri": "https://localhost:8080/"
    },
    "executionInfo": {
     "elapsed": 504,
     "status": "ok",
     "timestamp": 1639641273552,
     "user": {
      "displayName": "Kuldeep Joshi",
      "photoUrl": "https://lh3.googleusercontent.com/a-/AOh14GiJ4WNwl1G6NPV39M0GVQrsKWORGyLmIPpbMlQSA_w=s64",
      "userId": "10194195710468067065"
     },
     "user_tz": -330
    },
    "id": "WO2vqu2ez4oJ",
    "outputId": "3dbb6beb-e4f1-4894-eacf-4030776cdfbf"
   },
   "outputs": [
    {
     "name": "stdout",
     "output_type": "stream",
     "text": [
      "%age of points dropped from dataset:  9.513672834452267\n"
     ]
    }
   ],
   "source": [
    "# trimming the data points down using upper limit\n",
    "\n",
    "obs = X_train.shape[0]\n",
    "\n",
    "X_train = X_train[X_train['url_length'] < upper_val]\n",
    "print('%age of points dropped from dataset: ', (obs - X_train.shape[0])/obs *100)"
   ]
  },
  {
   "cell_type": "code",
   "execution_count": null,
   "metadata": {
    "colab": {
     "base_uri": "https://localhost:8080/",
     "height": 413
    },
    "executionInfo": {
     "elapsed": 675,
     "status": "ok",
     "timestamp": 1639385158868,
     "user": {
      "displayName": "Kuldeep Joshi",
      "photoUrl": "https://lh3.googleusercontent.com/a-/AOh14GiJ4WNwl1G6NPV39M0GVQrsKWORGyLmIPpbMlQSA_w=s64",
      "userId": "10194195710468067065"
     },
     "user_tz": -330
    },
    "id": "JFcIIiPKyRxs",
    "outputId": "b2a634c5-e93f-440b-8ff6-cfa821eabc2c"
   },
   "outputs": [
    {
     "data": {
      "text/plain": [
       "<matplotlib.axes._subplots.AxesSubplot at 0x7f8e5149e350>"
      ]
     },
     "execution_count": 41,
     "metadata": {},
     "output_type": "execute_result"
    },
    {
     "data": {
      "image/png": "[encoded data removed]",
      "text/plain": [
       "<Figure size 576x432 with 1 Axes>"
      ]
     },
     "metadata": {},
     "output_type": "display_data"
    }
   ],
   "source": [
    "sns.boxplot(x = \"result\", y = X_train.url_length, hue = \"result\", data = X_train)"
   ]
  },
  {
   "cell_type": "code",
   "execution_count": null,
   "metadata": {
    "colab": {
     "base_uri": "https://localhost:8080/",
     "height": 381
    },
    "executionInfo": {
     "elapsed": 1588,
     "status": "ok",
     "timestamp": 1639385165916,
     "user": {
      "displayName": "Kuldeep Joshi",
      "photoUrl": "https://lh3.googleusercontent.com/a-/AOh14GiJ4WNwl1G6NPV39M0GVQrsKWORGyLmIPpbMlQSA_w=s64",
      "userId": "10194195710468067065"
     },
     "user_tz": -330
    },
    "id": "pYaJsTXL0sEH",
    "outputId": "eb5cd69d-5e25-423d-f049-a1b05d107eb5"
   },
   "outputs": [
    {
     "data": {
      "image/png": "[encoded data removed]",
      "text/plain": [
       "<Figure size 406.6x360 with 1 Axes>"
      ]
     },
     "metadata": {},
     "output_type": "display_data"
    }
   ],
   "source": [
    "sns.FacetGrid(X_train, hue = \"result\", height = 5).map(sns.distplot, 'url_length').add_legend()\n",
    "plt.title('PDF of url_length')\n",
    "plt.show()"
   ]
  },
  {
   "cell_type": "markdown",
   "metadata": {
    "id": "9MiIlviW03fK"
   },
   "source": [
    "In this figure, conclude that the length of phishing points per density is larger than the legitimate points as the dentity is almost equal but on figure the density of legitimate is more on mode as compared to the phishing points. Its a helpful feature to distinguish between the classes."
   ]
  },
  {
   "cell_type": "markdown",
   "metadata": {
    "id": "C5baBQxK25tG"
   },
   "source": [
    "> **url_depth**"
   ]
  },
  {
   "cell_type": "code",
   "execution_count": null,
   "metadata": {
    "colab": {
     "base_uri": "https://localhost:8080/",
     "height": 410
    },
    "executionInfo": {
     "elapsed": 626,
     "status": "ok",
     "timestamp": 1639385171083,
     "user": {
      "displayName": "Kuldeep Joshi",
      "photoUrl": "https://lh3.googleusercontent.com/a-/AOh14GiJ4WNwl1G6NPV39M0GVQrsKWORGyLmIPpbMlQSA_w=s64",
      "userId": "10194195710468067065"
     },
     "user_tz": -330
    },
    "id": "rM1CqKRu_SMl",
    "outputId": "b63c4f8a-2682-4fb5-c630-ae7372ec02f6"
   },
   "outputs": [
    {
     "data": {
      "image/png": "[encoded data removed]",
      "text/plain": [
       "<Figure size 576x432 with 1 Axes>"
      ]
     },
     "metadata": {},
     "output_type": "display_data"
    }
   ],
   "source": [
    "sns.violinplot(x = \"result\", y = \"url_depth\", hue = \"result\", data = X_train)\n",
    "plt.title('voilin plot of url_depth')\n",
    "plt.show()"
   ]
  },
  {
   "cell_type": "markdown",
   "metadata": {
    "id": "AWOhKMF0_SMl"
   },
   "source": [
    "The above figure represnts the url length is having outliers for the result value 1 i.e. phishing. "
   ]
  },
  {
   "cell_type": "markdown",
   "metadata": {
    "id": "3SppeUwK_SMk"
   },
   "source": [
    "> Removing outlier"
   ]
  },
  {
   "cell_type": "code",
   "execution_count": 16,
   "metadata": {
    "colab": {
     "base_uri": "https://localhost:8080/"
    },
    "executionInfo": {
     "elapsed": 518,
     "status": "ok",
     "timestamp": 1639641280306,
     "user": {
      "displayName": "Kuldeep Joshi",
      "photoUrl": "https://lh3.googleusercontent.com/a-/AOh14GiJ4WNwl1G6NPV39M0GVQrsKWORGyLmIPpbMlQSA_w=s64",
      "userId": "10194195710468067065"
     },
     "user_tz": -330
    },
    "id": "OXfjIY7_5Hwd",
    "outputId": "3f9b2579-b082-43a1-e44a-58ac0fe6ba63"
   },
   "outputs": [
    {
     "name": "stdout",
     "output_type": "stream",
     "text": [
      "first quantile is:  0.0\n",
      "third quantile is:  1.0\n"
     ]
    }
   ],
   "source": [
    "# outlier detection using quantiles\n",
    "\n",
    "quantile_first = X_train['url_depth'].quantile(0.25)\n",
    "quantile_third = X_train['url_depth'].quantile(0.75)\n",
    "\n",
    "print('first quantile is: ', quantile_first)\n",
    "print('third quantile is: ', quantile_third)"
   ]
  },
  {
   "cell_type": "code",
   "execution_count": 17,
   "metadata": {
    "colab": {
     "base_uri": "https://localhost:8080/"
    },
    "executionInfo": {
     "elapsed": 5,
     "status": "ok",
     "timestamp": 1639641281828,
     "user": {
      "displayName": "Kuldeep Joshi",
      "photoUrl": "https://lh3.googleusercontent.com/a-/AOh14GiJ4WNwl1G6NPV39M0GVQrsKWORGyLmIPpbMlQSA_w=s64",
      "userId": "10194195710468067065"
     },
     "user_tz": -330
    },
    "id": "MeP1_NBI5Hwj",
    "outputId": "bcdcc57b-fceb-467d-a755-7a1a05f1e415"
   },
   "outputs": [
    {
     "name": "stdout",
     "output_type": "stream",
     "text": [
      "lower limit:  -1.5\n",
      "upper limit:  2.5\n"
     ]
    }
   ],
   "source": [
    "# calculating iqr\n",
    "iqr = quantile_third - quantile_first\n",
    "\n",
    "# setting lower limit\n",
    "lower_val = quantile_first - 1.5*iqr\n",
    "print('lower limit: ', lower_val)\n",
    "\n",
    "# setting upper limit\n",
    "upper_val = quantile_third + 1.5*iqr\n",
    "print('upper limit: ', upper_val)"
   ]
  },
  {
   "cell_type": "code",
   "execution_count": 18,
   "metadata": {
    "colab": {
     "base_uri": "https://localhost:8080/"
    },
    "executionInfo": {
     "elapsed": 448,
     "status": "ok",
     "timestamp": 1639641284915,
     "user": {
      "displayName": "Kuldeep Joshi",
      "photoUrl": "https://lh3.googleusercontent.com/a-/AOh14GiJ4WNwl1G6NPV39M0GVQrsKWORGyLmIPpbMlQSA_w=s64",
      "userId": "10194195710468067065"
     },
     "user_tz": -330
    },
    "id": "8GXky2lI5Hwn",
    "outputId": "3cb0f2a4-0611-4752-a79d-3cf9190772da"
   },
   "outputs": [
    {
     "name": "stdout",
     "output_type": "stream",
     "text": [
      "%age of points dropped from dataset:  10.278682591386175\n"
     ]
    }
   ],
   "source": [
    "# trimming the data points down using upper limit\n",
    "\n",
    "obs = X_train.shape[0]\n",
    "\n",
    "X_train = X_train[X_train['url_depth'] < upper_val]\n",
    "print('%age of points dropped from dataset: ', (obs - X_train.shape[0])/obs *100)"
   ]
  },
  {
   "cell_type": "code",
   "execution_count": null,
   "metadata": {
    "colab": {
     "base_uri": "https://localhost:8080/",
     "height": 413
    },
    "executionInfo": {
     "elapsed": 631,
     "status": "ok",
     "timestamp": 1639385184445,
     "user": {
      "displayName": "Kuldeep Joshi",
      "photoUrl": "https://lh3.googleusercontent.com/a-/AOh14GiJ4WNwl1G6NPV39M0GVQrsKWORGyLmIPpbMlQSA_w=s64",
      "userId": "10194195710468067065"
     },
     "user_tz": -330
    },
    "id": "RhaYL4UM5lo7",
    "outputId": "97e4f521-aa24-45de-9ce7-7928e43f8d3a"
   },
   "outputs": [
    {
     "data": {
      "text/plain": [
       "<matplotlib.axes._subplots.AxesSubplot at 0x7f8e51292f50>"
      ]
     },
     "execution_count": 47,
     "metadata": {},
     "output_type": "execute_result"
    },
    {
     "data": {
      "image/png": "[encoded data removed]",
      "text/plain": [
       "<Figure size 576x432 with 1 Axes>"
      ]
     },
     "metadata": {},
     "output_type": "display_data"
    }
   ],
   "source": [
    "sns.violinplot(x = \"result\", y = \"url_depth\", hue = \"result\", data = X_train)"
   ]
  },
  {
   "cell_type": "markdown",
   "metadata": {
    "id": "WJz8M0Pc_SMk"
   },
   "source": [
    "In this figure, conclude that the length of phishing points is larger than the legitimate points. Its a helpful feature to distinguish between the classes."
   ]
  },
  {
   "cell_type": "markdown",
   "metadata": {
    "id": "ti9qOzuB_rDF"
   },
   "source": [
    "> **url_having_at_symbol**"
   ]
  },
  {
   "cell_type": "code",
   "execution_count": null,
   "metadata": {
    "colab": {
     "base_uri": "https://localhost:8080/"
    },
    "executionInfo": {
     "elapsed": 482,
     "status": "ok",
     "timestamp": 1639385190936,
     "user": {
      "displayName": "Kuldeep Joshi",
      "photoUrl": "https://lh3.googleusercontent.com/a-/AOh14GiJ4WNwl1G6NPV39M0GVQrsKWORGyLmIPpbMlQSA_w=s64",
      "userId": "10194195710468067065"
     },
     "user_tz": -330
    },
    "id": "NbXuYSGzP2ue",
    "outputId": "913f6ae9-ad89-4370-f069-f74dff6bfd68"
   },
   "outputs": [
    {
     "data": {
      "text/plain": [
       "0    14697\n",
       "1      177\n",
       "Name: url_having_at_symbol, dtype: int64"
      ]
     },
     "execution_count": 48,
     "metadata": {},
     "output_type": "execute_result"
    }
   ],
   "source": [
    "X_train.url_having_at_symbol.value_counts()"
   ]
  },
  {
   "cell_type": "code",
   "execution_count": null,
   "metadata": {
    "colab": {
     "base_uri": "https://localhost:8080/",
     "height": 429
    },
    "executionInfo": {
     "elapsed": 629,
     "status": "ok",
     "timestamp": 1639385201063,
     "user": {
      "displayName": "Kuldeep Joshi",
      "photoUrl": "https://lh3.googleusercontent.com/a-/AOh14GiJ4WNwl1G6NPV39M0GVQrsKWORGyLmIPpbMlQSA_w=s64",
      "userId": "10194195710468067065"
     },
     "user_tz": -330
    },
    "id": "2MiIfCVX_1Tc",
    "outputId": "598e650e-85d8-40d2-8aaa-2b7d908ab94e"
   },
   "outputs": [
    {
     "data": {
      "text/plain": [
       "Text(0.5, 1.0, 'Countplot of url_having_at_symbol')"
      ]
     },
     "execution_count": 49,
     "metadata": {},
     "output_type": "execute_result"
    },
    {
     "data": {
      "image/png": "[encoded data removed]",
      "text/plain": [
       "<Figure size 576x432 with 1 Axes>"
      ]
     },
     "metadata": {},
     "output_type": "display_data"
    }
   ],
   "source": [
    "col = 'url_having_at_symbol'\n",
    "ax = sns.countplot(x= col, hue=\"result\", data=X_train)\n",
    "ax.set_title('Countplot of {}'.format(col))"
   ]
  },
  {
   "cell_type": "markdown",
   "metadata": {
    "id": "ogJukeHrOwIC"
   },
   "source": [
    "This plot is showing that there all legitimate points belongs to value 0 for this feature. And the phishing points are in both 0 and 1 value. But still there is an overlap for the value 0."
   ]
  },
  {
   "cell_type": "markdown",
   "metadata": {
    "id": "9HwqG5R0AlhN"
   },
   "source": [
    "> **url_redirection**"
   ]
  },
  {
   "cell_type": "code",
   "execution_count": null,
   "metadata": {
    "colab": {
     "base_uri": "https://localhost:8080/"
    },
    "executionInfo": {
     "elapsed": 606,
     "status": "ok",
     "timestamp": 1639385206756,
     "user": {
      "displayName": "Kuldeep Joshi",
      "photoUrl": "https://lh3.googleusercontent.com/a-/AOh14GiJ4WNwl1G6NPV39M0GVQrsKWORGyLmIPpbMlQSA_w=s64",
      "userId": "10194195710468067065"
     },
     "user_tz": -330
    },
    "id": "y3LtL1G-Prq_",
    "outputId": "ca792c23-edb5-4552-f700-7e9f378aadb1"
   },
   "outputs": [
    {
     "data": {
      "text/plain": [
       "1    14871\n",
       "0        3\n",
       "Name: url_redirection, dtype: int64"
      ]
     },
     "execution_count": 50,
     "metadata": {},
     "output_type": "execute_result"
    }
   ],
   "source": [
    "X_train.url_redirection.value_counts()"
   ]
  },
  {
   "cell_type": "code",
   "execution_count": null,
   "metadata": {
    "colab": {
     "base_uri": "https://localhost:8080/",
     "height": 429
    },
    "executionInfo": {
     "elapsed": 565,
     "status": "ok",
     "timestamp": 1639385210176,
     "user": {
      "displayName": "Kuldeep Joshi",
      "photoUrl": "https://lh3.googleusercontent.com/a-/AOh14GiJ4WNwl1G6NPV39M0GVQrsKWORGyLmIPpbMlQSA_w=s64",
      "userId": "10194195710468067065"
     },
     "user_tz": -330
    },
    "id": "De0YidDQCWno",
    "outputId": "c0499ce6-23bf-4cd8-ab53-0358a03b9e15"
   },
   "outputs": [
    {
     "data": {
      "text/plain": [
       "Text(0.5, 1.0, 'Countplot of url_redirection')"
      ]
     },
     "execution_count": 51,
     "metadata": {},
     "output_type": "execute_result"
    },
    {
     "data": {
      "image/png": "[encoded data removed]",
      "text/plain": [
       "<Figure size 576x432 with 1 Axes>"
      ]
     },
     "metadata": {},
     "output_type": "display_data"
    }
   ],
   "source": [
    "col = 'url_redirection'\n",
    "ax = sns.countplot(x= col, hue=\"result\", data=X_train)\n",
    "ax.set_title('Countplot of {}'.format(col))"
   ]
  },
  {
   "cell_type": "markdown",
   "metadata": {
    "id": "71pNIailPVsx"
   },
   "source": [
    "*This plot shown above states that there is an overlap for the value 1 of this feature wrt. the target values.*\n",
    "\n",
    "*There are only 4 points having value 0 for this feature and all of them belongs to class 0 i.e. legitimate.*\n",
    "\n",
    "*This is not a useful feature.*"
   ]
  },
  {
   "cell_type": "markdown",
   "metadata": {
    "id": "VqgaVm6aDcUu"
   },
   "source": [
    "> **url_http_domain**"
   ]
  },
  {
   "cell_type": "code",
   "execution_count": null,
   "metadata": {
    "colab": {
     "base_uri": "https://localhost:8080/",
     "height": 429
    },
    "executionInfo": {
     "elapsed": 545,
     "status": "ok",
     "timestamp": 1639385214506,
     "user": {
      "displayName": "Kuldeep Joshi",
      "photoUrl": "https://lh3.googleusercontent.com/a-/AOh14GiJ4WNwl1G6NPV39M0GVQrsKWORGyLmIPpbMlQSA_w=s64",
      "userId": "10194195710468067065"
     },
     "user_tz": -330
    },
    "id": "KsNXXFpw6dcY",
    "outputId": "b95d8c4a-04a5-4c98-b1ed-965e67183a37"
   },
   "outputs": [
    {
     "data": {
      "text/plain": [
       "Text(0.5, 1.0, 'Countplot of url_http_domain')"
      ]
     },
     "execution_count": 52,
     "metadata": {},
     "output_type": "execute_result"
    },
    {
     "data": {
      "image/png": "[encoded data removed]",
      "text/plain": [
       "<Figure size 576x432 with 1 Axes>"
      ]
     },
     "metadata": {},
     "output_type": "display_data"
    }
   ],
   "source": [
    "col = 'url_http_domain'\n",
    "ax = sns.countplot(x= col, hue=\"result\", data=final_df)\n",
    "ax.set_title('Countplot of {}'.format(col))"
   ]
  },
  {
   "cell_type": "markdown",
   "metadata": {
    "id": "OHhJjQ4iQq-V"
   },
   "source": [
    "*The plot shown above that for all the data points that are legitimate, this feature value is 0 and for the phishing it is 1 for most of the points.*\n",
    "\n",
    "*This is a useful feature.*"
   ]
  },
  {
   "cell_type": "markdown",
   "metadata": {
    "id": "CRnG8SBiDkY-"
   },
   "source": [
    "> **url_sortining_service**\n",
    "\n",
    "> **url_prefix_suffix**"
   ]
  },
  {
   "cell_type": "code",
   "execution_count": null,
   "metadata": {
    "colab": {
     "base_uri": "https://localhost:8080/",
     "height": 374
    },
    "executionInfo": {
     "elapsed": 842,
     "status": "ok",
     "timestamp": 1639385219961,
     "user": {
      "displayName": "Kuldeep Joshi",
      "photoUrl": "https://lh3.googleusercontent.com/a-/AOh14GiJ4WNwl1G6NPV39M0GVQrsKWORGyLmIPpbMlQSA_w=s64",
      "userId": "10194195710468067065"
     },
     "user_tz": -330
    },
    "id": "gK2tX4oH6g_J",
    "outputId": "87ffce1f-b248-49a0-f315-53691cd37dd3"
   },
   "outputs": [
    {
     "data": {
      "text/plain": [
       "Text(0.5, 1.0, 'Countplot of url_prefix_suffix')"
      ]
     },
     "execution_count": 53,
     "metadata": {},
     "output_type": "execute_result"
    },
    {
     "data": {
      "image/png": "[encoded data removed]",
      "text/plain": [
       "<Figure size 720x360 with 2 Axes>"
      ]
     },
     "metadata": {},
     "output_type": "display_data"
    }
   ],
   "source": [
    "f, axes = plt.subplots(1, 2, figsize= (10,5))\n",
    "\n",
    "ax2 = sns.countplot(x= 'url_sortining_service', hue=\"result\", data=X_train, ax= axes[0])\n",
    "ax2.set_title('Countplot of {}'.format('url_sortining_service'))\n",
    "\n",
    "ax3 = sns.countplot(x= 'url_prefix_suffix', hue=\"result\", data=X_train, ax= axes[1])\n",
    "ax3.set_title('Countplot of {}'.format('url_prefix_suffix'))"
   ]
  },
  {
   "cell_type": "markdown",
   "metadata": {
    "id": "fWjStgTsQ804"
   },
   "source": [
    "*The plots states that these features are not so useful as for both the values which are quite distinguishable inspite of which the target is almost overlapping.*\n"
   ]
  },
  {
   "cell_type": "markdown",
   "metadata": {
    "id": "VYe_iQagDy4q"
   },
   "source": [
    "> **url_standard_port**\n",
    "\n",
    "> **url_google_index**"
   ]
  },
  {
   "cell_type": "code",
   "execution_count": null,
   "metadata": {
    "colab": {
     "base_uri": "https://localhost:8080/",
     "height": 374
    },
    "executionInfo": {
     "elapsed": 637,
     "status": "ok",
     "timestamp": 1639385225525,
     "user": {
      "displayName": "Kuldeep Joshi",
      "photoUrl": "https://lh3.googleusercontent.com/a-/AOh14GiJ4WNwl1G6NPV39M0GVQrsKWORGyLmIPpbMlQSA_w=s64",
      "userId": "10194195710468067065"
     },
     "user_tz": -330
    },
    "id": "WX1L9DuY6tRd",
    "outputId": "35ec5a87-bb69-4e20-d709-83033c332b9e"
   },
   "outputs": [
    {
     "data": {
      "text/plain": [
       "Text(0.5, 1.0, 'Countplot of url_google_index')"
      ]
     },
     "execution_count": 54,
     "metadata": {},
     "output_type": "execute_result"
    },
    {
     "data": {
      "image/png": "[encoded data removed]",
      "text/plain": [
       "<Figure size 720x360 with 2 Axes>"
      ]
     },
     "metadata": {},
     "output_type": "display_data"
    }
   ],
   "source": [
    "f, axes = plt.subplots(1, 2, figsize= (10,5))\n",
    "\n",
    "ax2 = sns.countplot(x= 'url_standard_port', hue=\"result\", data=X_train, ax= axes[0])\n",
    "ax2.set_title('Countplot of {}'.format(\"url_standard_port\"))\n",
    "\n",
    "ax3 = sns.countplot(x= 'url_google_index', hue=\"result\", data=X_train, ax= axes[1])\n",
    "ax3.set_title('Countplot of {}'.format(\"url_google_index\"))"
   ]
  },
  {
   "cell_type": "markdown",
   "metadata": {
    "id": "yMwqOlldUMJn"
   },
   "source": [
    "This plot shown above states:    \n",
    "\n",
    "*url_standard_port is a bad feature as almost all the points belongs to value 1 and the target is highly overlapped.*\n",
    "\n",
    "*url_google_index is a good feature, the target is easily distinguishable.*"
   ]
  },
  {
   "cell_type": "markdown",
   "metadata": {
    "id": "_NPEmY4xHT4k"
   },
   "source": [
    "#### domain based features"
   ]
  },
  {
   "cell_type": "code",
   "execution_count": null,
   "metadata": {
    "colab": {
     "base_uri": "https://localhost:8080/"
    },
    "executionInfo": {
     "elapsed": 14,
     "status": "ok",
     "timestamp": 1639385240375,
     "user": {
      "displayName": "Kuldeep Joshi",
      "photoUrl": "https://lh3.googleusercontent.com/a-/AOh14GiJ4WNwl1G6NPV39M0GVQrsKWORGyLmIPpbMlQSA_w=s64",
      "userId": "10194195710468067065"
     },
     "user_tz": -330
    },
    "id": "Bd-oYVUFHZFh",
    "outputId": "4bea9eab-da54-4cfc-9185-d1635a07221f"
   },
   "outputs": [
    {
     "data": {
      "text/plain": [
       "Index(['dns_record', 'domain_age', 'statistical_report'], dtype='object')"
      ]
     },
     "execution_count": 55,
     "metadata": {},
     "output_type": "execute_result"
    }
   ],
   "source": [
    "col_names = X_train.columns[9:12]\n",
    "col_names"
   ]
  },
  {
   "cell_type": "code",
   "execution_count": null,
   "metadata": {
    "colab": {
     "base_uri": "https://localhost:8080/"
    },
    "executionInfo": {
     "elapsed": 506,
     "status": "ok",
     "timestamp": 1639385245344,
     "user": {
      "displayName": "Kuldeep Joshi",
      "photoUrl": "https://lh3.googleusercontent.com/a-/AOh14GiJ4WNwl1G6NPV39M0GVQrsKWORGyLmIPpbMlQSA_w=s64",
      "userId": "10194195710468067065"
     },
     "user_tz": -330
    },
    "id": "Qj6RE_U4Hu71",
    "outputId": "3589d197-59d7-4aa4-ee50-781d1507319b"
   },
   "outputs": [
    {
     "data": {
      "text/plain": [
       "0    14166\n",
       "1      708\n",
       "Name: dns_record, dtype: int64"
      ]
     },
     "execution_count": 56,
     "metadata": {},
     "output_type": "execute_result"
    }
   ],
   "source": [
    "X_train.dns_record.value_counts()"
   ]
  },
  {
   "cell_type": "code",
   "execution_count": null,
   "metadata": {
    "colab": {
     "base_uri": "https://localhost:8080/"
    },
    "executionInfo": {
     "elapsed": 8,
     "status": "ok",
     "timestamp": 1639385247206,
     "user": {
      "displayName": "Kuldeep Joshi",
      "photoUrl": "https://lh3.googleusercontent.com/a-/AOh14GiJ4WNwl1G6NPV39M0GVQrsKWORGyLmIPpbMlQSA_w=s64",
      "userId": "10194195710468067065"
     },
     "user_tz": -330
    },
    "id": "bC-EJM2TU3_P",
    "outputId": "4adc4a50-525f-4cbb-a422-65b49dd47993"
   },
   "outputs": [
    {
     "data": {
      "text/plain": [
       "0    10084\n",
       "1     4790\n",
       "Name: domain_age, dtype: int64"
      ]
     },
     "execution_count": 57,
     "metadata": {},
     "output_type": "execute_result"
    }
   ],
   "source": [
    "X_train.domain_age.value_counts()"
   ]
  },
  {
   "cell_type": "code",
   "execution_count": null,
   "metadata": {
    "colab": {
     "base_uri": "https://localhost:8080/"
    },
    "executionInfo": {
     "elapsed": 739,
     "status": "ok",
     "timestamp": 1639385250635,
     "user": {
      "displayName": "Kuldeep Joshi",
      "photoUrl": "https://lh3.googleusercontent.com/a-/AOh14GiJ4WNwl1G6NPV39M0GVQrsKWORGyLmIPpbMlQSA_w=s64",
      "userId": "10194195710468067065"
     },
     "user_tz": -330
    },
    "id": "W-Oe2bcoVCHw",
    "outputId": "bb78b3e8-c74b-4dbe-93dd-63a4b1aff98c"
   },
   "outputs": [
    {
     "data": {
      "text/plain": [
       " 0.0    12862\n",
       "-1.0     2003\n",
       " 1.0        9\n",
       "Name: statistical_report, dtype: int64"
      ]
     },
     "execution_count": 58,
     "metadata": {},
     "output_type": "execute_result"
    }
   ],
   "source": [
    "X_train.statistical_report.value_counts()\n"
   ]
  },
  {
   "cell_type": "markdown",
   "metadata": {
    "id": "sRlxdcfvXc-O"
   },
   "source": [
    "*The frequency of 1 is very less, it won't be a useful feature.*"
   ]
  },
  {
   "cell_type": "code",
   "execution_count": null,
   "metadata": {
    "colab": {
     "base_uri": "https://localhost:8080/",
     "height": 374
    },
    "executionInfo": {
     "elapsed": 644,
     "status": "ok",
     "timestamp": 1639385256957,
     "user": {
      "displayName": "Kuldeep Joshi",
      "photoUrl": "https://lh3.googleusercontent.com/a-/AOh14GiJ4WNwl1G6NPV39M0GVQrsKWORGyLmIPpbMlQSA_w=s64",
      "userId": "10194195710468067065"
     },
     "user_tz": -330
    },
    "id": "U_Ym6IHn63O3",
    "outputId": "75ed4421-76af-4842-c576-6781fb0b3172"
   },
   "outputs": [
    {
     "data": {
      "text/plain": [
       "Text(0.5, 1.0, 'Countplot of domain_age')"
      ]
     },
     "execution_count": 59,
     "metadata": {},
     "output_type": "execute_result"
    },
    {
     "data": {
      "image/png": "[encoded data removed]",
      "text/plain": [
       "<Figure size 864x360 with 2 Axes>"
      ]
     },
     "metadata": {},
     "output_type": "display_data"
    }
   ],
   "source": [
    "f, axes = plt.subplots(1, 2, figsize= (12,5))\n",
    "\n",
    "ax1 = sns.countplot(x= 'dns_record', hue=\"result\", data=X_train, ax= axes[0])\n",
    "ax1.set_title('Countplot of {}'.format(\"dns_record\"))\n",
    "\n",
    "ax2 = sns.countplot(x= 'domain_age', hue=\"result\", data=X_train, ax= axes[1])\n",
    "ax2.set_title('Countplot of {}'.format(\"domain_age\"))\n"
   ]
  },
  {
   "cell_type": "markdown",
   "metadata": {
    "id": "njrMnqAqYHPI"
   },
   "source": [
    "*Both are useful features. As for the feature name domain_age, the result 0 i.e. legitimate is heavily belongs to value 0 of this feature. And for dns_record there are more frequecy of phishing points for the value 1.*"
   ]
  },
  {
   "cell_type": "markdown",
   "metadata": {
    "id": "03Nk_AQ8Ib9B"
   },
   "source": [
    "### page based features"
   ]
  },
  {
   "cell_type": "code",
   "execution_count": null,
   "metadata": {
    "colab": {
     "base_uri": "https://localhost:8080/"
    },
    "executionInfo": {
     "elapsed": 526,
     "status": "ok",
     "timestamp": 1639385281526,
     "user": {
      "displayName": "Kuldeep Joshi",
      "photoUrl": "https://lh3.googleusercontent.com/a-/AOh14GiJ4WNwl1G6NPV39M0GVQrsKWORGyLmIPpbMlQSA_w=s64",
      "userId": "10194195710468067065"
     },
     "user_tz": -330
    },
    "id": "VatYQxeUdMMr",
    "outputId": "b6bcc230-f094-4926-bcca-1510fbb566d6"
   },
   "outputs": [
    {
     "data": {
      "text/plain": [
       "Index(['page_mouse_over', 'page_right_click_disable', 'page_pop_up',\n",
       "       'page_iframe', 'page_website_forwarding', 'link_pointing_to_the_page',\n",
       "       'submit_email', 'redirection_count', 'server_from_handler',\n",
       "       'page_favicon', 'ssl_state'],\n",
       "      dtype='object')"
      ]
     },
     "execution_count": 60,
     "metadata": {},
     "output_type": "execute_result"
    }
   ],
   "source": [
    "col_names = X_train.columns[12:-1]\n",
    "col_names"
   ]
  },
  {
   "cell_type": "code",
   "execution_count": null,
   "metadata": {
    "colab": {
     "base_uri": "https://localhost:8080/"
    },
    "executionInfo": {
     "elapsed": 500,
     "status": "ok",
     "timestamp": 1639385288200,
     "user": {
      "displayName": "Kuldeep Joshi",
      "photoUrl": "https://lh3.googleusercontent.com/a-/AOh14GiJ4WNwl1G6NPV39M0GVQrsKWORGyLmIPpbMlQSA_w=s64",
      "userId": "10194195710468067065"
     },
     "user_tz": -330
    },
    "id": "mozJV41udl_7",
    "outputId": "2468e480-b978-4c53-9808-27b106575586"
   },
   "outputs": [
    {
     "name": "stdout",
     "output_type": "stream",
     "text": [
      "Unique values in page_mouse_over column:   0    10412\n",
      " 1     4460\n",
      "-1        2\n",
      "Name: page_mouse_over, dtype: int64\n",
      "**************************************************\n",
      "Unique values in page_right_click_disable column:  1    14871\n",
      "0        3\n",
      "Name: page_right_click_disable, dtype: int64\n",
      "**************************************************\n",
      "Unique values in page_pop_up column:  1.0    14673\n",
      "0.0      201\n",
      "Name: page_pop_up, dtype: int64\n",
      "**************************************************\n",
      "Unique values in page_iframe column:   0.0    9608\n",
      " 1.0    5253\n",
      "-1.0      13\n",
      "Name: page_iframe, dtype: int64\n",
      "**************************************************\n",
      "Unique values in page_website_forwarding column:   0.0    10149\n",
      " 1.0     4722\n",
      "-1.0        3\n",
      "Name: page_website_forwarding, dtype: int64\n",
      "**************************************************\n",
      "Unique values in link_pointing_to_the_page column:   1.0    6955\n",
      " 0.0    6171\n",
      "-1.0    1748\n",
      "Name: link_pointing_to_the_page, dtype: int64\n",
      "**************************************************\n",
      "Unique values in submit_email column:   1.0    13986\n",
      " 0.0      864\n",
      "-1.0       24\n",
      "Name: submit_email, dtype: int64\n",
      "**************************************************\n",
      "Unique values in redirection_count column:   1.0    13962\n",
      "-1.0      830\n",
      " 0.0       82\n",
      "Name: redirection_count, dtype: int64\n",
      "**************************************************\n",
      "Unique values in server_from_handler column:   0    8734\n",
      " 1    4610\n",
      "-1    1530\n",
      "Name: server_from_handler, dtype: int64\n",
      "**************************************************\n",
      "Unique values in page_favicon column:   1.0    7145\n",
      "-1.0    5123\n",
      " 0.0    2606\n",
      "Name: page_favicon, dtype: int64\n",
      "**************************************************\n",
      "Unique values in ssl_state column:  0    10299\n",
      "1     4575\n",
      "Name: ssl_state, dtype: int64\n",
      "**************************************************\n"
     ]
    }
   ],
   "source": [
    "for col in col_names:\n",
    "  print('Unique values in {} column: '.format(col), X_train[col].value_counts())\n",
    "  print('*'*50)"
   ]
  },
  {
   "cell_type": "code",
   "execution_count": null,
   "metadata": {
    "colab": {
     "base_uri": "https://localhost:8080/",
     "height": 429
    },
    "executionInfo": {
     "elapsed": 609,
     "status": "ok",
     "timestamp": 1639385300954,
     "user": {
      "displayName": "Kuldeep Joshi",
      "photoUrl": "https://lh3.googleusercontent.com/a-/AOh14GiJ4WNwl1G6NPV39M0GVQrsKWORGyLmIPpbMlQSA_w=s64",
      "userId": "10194195710468067065"
     },
     "user_tz": -330
    },
    "id": "BGghXttulrfU",
    "outputId": "0621c114-68cc-4898-9965-94dcb3060948"
   },
   "outputs": [
    {
     "data": {
      "text/plain": [
       "Text(0.5, 1.0, 'Countplot of page_iframe')"
      ]
     },
     "execution_count": 62,
     "metadata": {},
     "output_type": "execute_result"
    },
    {
     "data": {
      "image/png": "[encoded data removed]",
      "text/plain": [
       "<Figure size 1296x432 with 2 Axes>"
      ]
     },
     "metadata": {},
     "output_type": "display_data"
    }
   ],
   "source": [
    "f, axes = plt.subplots(1, 2, figsize= (18,6))\n",
    "\n",
    "ax1 = sns.countplot(x= 'page_mouse_over', hue=\"result\", data=X_train, ax= axes[0])\n",
    "ax1.set_title('Countplot of {}'.format(\"page_mouse_over\"))\n",
    "\n",
    "ax2 = sns.countplot(x= 'page_iframe', hue=\"result\", data=X_train, ax= axes[1])\n",
    "ax2.set_title('Countplot of {}'.format(\"page_iframe\"))\n"
   ]
  },
  {
   "cell_type": "markdown",
   "metadata": {
    "id": "cdl7FAEy7Lwi"
   },
   "source": [
    "*Both the features plotted above are not helpful ones as they are overlapping for both the 0s and 1's.*"
   ]
  },
  {
   "cell_type": "code",
   "execution_count": null,
   "metadata": {
    "colab": {
     "base_uri": "https://localhost:8080/",
     "height": 374
    },
    "executionInfo": {
     "elapsed": 983,
     "status": "ok",
     "timestamp": 1639385304318,
     "user": {
      "displayName": "Kuldeep Joshi",
      "photoUrl": "https://lh3.googleusercontent.com/a-/AOh14GiJ4WNwl1G6NPV39M0GVQrsKWORGyLmIPpbMlQSA_w=s64",
      "userId": "10194195710468067065"
     },
     "user_tz": -330
    },
    "id": "Eo6r8xzyoCNn",
    "outputId": "2ef84e1e-f431-4275-a702-531be741e2b3"
   },
   "outputs": [
    {
     "data": {
      "text/plain": [
       "Text(0.5, 1.0, 'Countplot of link_pointing_to_the_page')"
      ]
     },
     "execution_count": 63,
     "metadata": {},
     "output_type": "execute_result"
    },
    {
     "data": {
      "image/png": "[encoded data removed]",
      "text/plain": [
       "<Figure size 1296x360 with 2 Axes>"
      ]
     },
     "metadata": {},
     "output_type": "display_data"
    }
   ],
   "source": [
    "f, axes = plt.subplots(1, 2, figsize= (18,5))\n",
    "\n",
    "ax1 = sns.countplot(x= 'page_website_forwarding', hue=\"result\", data=X_train, ax= axes[0])\n",
    "ax1.set_title('Countplot of {}'.format(\"page_website_forwarding\"))\n",
    "\n",
    "ax2 = sns.countplot(x= 'link_pointing_to_the_page', hue=\"result\", data=X_train, ax= axes[1])\n",
    "ax2.set_title('Countplot of {}'.format(\"link_pointing_to_the_page\"))\n"
   ]
  },
  {
   "cell_type": "code",
   "execution_count": null,
   "metadata": {
    "colab": {
     "base_uri": "https://localhost:8080/",
     "height": 374
    },
    "executionInfo": {
     "elapsed": 10,
     "status": "ok",
     "timestamp": 1639385304951,
     "user": {
      "displayName": "Kuldeep Joshi",
      "photoUrl": "https://lh3.googleusercontent.com/a-/AOh14GiJ4WNwl1G6NPV39M0GVQrsKWORGyLmIPpbMlQSA_w=s64",
      "userId": "10194195710468067065"
     },
     "user_tz": -330
    },
    "id": "SWzGxdOKoOah",
    "outputId": "7dda0dee-c78b-4a7f-fb00-e5d2ffc73d02"
   },
   "outputs": [
    {
     "data": {
      "text/plain": [
       "Text(0.5, 1.0, 'Countplot of redirection_count')"
      ]
     },
     "execution_count": 64,
     "metadata": {},
     "output_type": "execute_result"
    },
    {
     "data": {
      "image/png": "[encoded data removed]",
      "text/plain": [
       "<Figure size 1296x360 with 2 Axes>"
      ]
     },
     "metadata": {},
     "output_type": "display_data"
    }
   ],
   "source": [
    "f, axes = plt.subplots(1, 2, figsize= (18,5))\n",
    "\n",
    "ax1 = sns.countplot(x= 'submit_email', hue=\"result\", data=X_train, ax= axes[0])\n",
    "ax1.set_title('Countplot of {}'.format(\"submit_email\"))\n",
    "\n",
    "ax2 = sns.countplot(x= 'redirection_count', hue=\"result\", data=X_train, ax= axes[1])\n",
    "ax2.set_title('Countplot of {}'.format(\"redirection_count\"))\n"
   ]
  },
  {
   "cell_type": "markdown",
   "metadata": {
    "id": "kglFsxsfP7rx"
   },
   "source": [
    "*redirection_count feature makes no sense of any distinguishabilty for the result. submit_email could be helpful as very less phising points are having value 0 for this as compare to legitimate ones.*"
   ]
  },
  {
   "cell_type": "code",
   "execution_count": null,
   "metadata": {
    "colab": {
     "base_uri": "https://localhost:8080/",
     "height": 374
    },
    "executionInfo": {
     "elapsed": 923,
     "status": "ok",
     "timestamp": 1639385307919,
     "user": {
      "displayName": "Kuldeep Joshi",
      "photoUrl": "https://lh3.googleusercontent.com/a-/AOh14GiJ4WNwl1G6NPV39M0GVQrsKWORGyLmIPpbMlQSA_w=s64",
      "userId": "10194195710468067065"
     },
     "user_tz": -330
    },
    "id": "sKt0605eePNb",
    "outputId": "07eaf662-3876-4b92-f324-916dd695c741"
   },
   "outputs": [
    {
     "data": {
      "text/plain": [
       "Text(0.5, 1.0, 'Countplot of ssl_state')"
      ]
     },
     "execution_count": 65,
     "metadata": {},
     "output_type": "execute_result"
    },
    {
     "data": {
      "image/png": "[encoded data removed]",
      "text/plain": [
       "<Figure size 1296x360 with 3 Axes>"
      ]
     },
     "metadata": {},
     "output_type": "display_data"
    }
   ],
   "source": [
    "f, axes = plt.subplots(1, 3, figsize= (18,5))\n",
    "\n",
    "ax1 = sns.countplot(x= 'server_from_handler', hue=\"result\", data=X_train, ax= axes[0])\n",
    "ax1.set_title('Countplot of {}'.format(\"server_from_handler\"))\n",
    "\n",
    "ax2 = sns.countplot(x= 'page_favicon', hue=\"result\", data=X_train, ax= axes[1])\n",
    "ax2.set_title('Countplot of {}'.format(\"page_favicon\"))\n",
    "\n",
    "ax3 = sns.countplot(x= 'ssl_state', hue=\"result\", data=X_train, ax= axes[2])\n",
    "ax3.set_title('Countplot of {}'.format(\"ssl_state\"))"
   ]
  },
  {
   "cell_type": "markdown",
   "metadata": {
    "id": "AS_qqolmO2Ze"
   },
   "source": [
    "*server_from_handler and ssl_state are bad features. In page_favicon feature, -1 denotes unknown value but is high in case of legitimate, it could be hellpful feature.*"
   ]
  },
  {
   "cell_type": "markdown",
   "metadata": {
    "id": "VjSdm6yIVInk"
   },
   "source": [
    "## PCA\n"
   ]
  },
  {
   "cell_type": "code",
   "execution_count": null,
   "metadata": {
    "id": "GAexo67UDoK3"
   },
   "outputs": [],
   "source": [
    "# importing and initializing pca\n",
    "from sklearn import decomposition\n",
    "\n",
    "pca = decomposition.PCA()"
   ]
  },
  {
   "cell_type": "code",
   "execution_count": null,
   "metadata": {
    "id": "kXR6nEilCDes"
   },
   "outputs": [],
   "source": [
    "X = X_train.drop(columns = ['result'])\n",
    "y = X_train.result"
   ]
  },
  {
   "cell_type": "code",
   "execution_count": null,
   "metadata": {
    "id": "eQGbu9Pb_X9J"
   },
   "outputs": [],
   "source": [
    "from sklearn.preprocessing import StandardScaler\n",
    "from sklearn.pipeline import Pipeline\n",
    "\n",
    "pipe = Pipeline([('scaler', StandardScaler()), ('pca', pca)])\n",
    "out = pipe.fit_transform(X)"
   ]
  },
  {
   "cell_type": "code",
   "execution_count": null,
   "metadata": {
    "colab": {
     "base_uri": "https://localhost:8080/",
     "height": 285
    },
    "executionInfo": {
     "elapsed": 634,
     "status": "ok",
     "timestamp": 1639385333050,
     "user": {
      "displayName": "Kuldeep Joshi",
      "photoUrl": "https://lh3.googleusercontent.com/a-/AOh14GiJ4WNwl1G6NPV39M0GVQrsKWORGyLmIPpbMlQSA_w=s64",
      "userId": "10194195710468067065"
     },
     "user_tz": -330
    },
    "id": "VSQ5-lXBEHrh",
    "outputId": "55dbd5b8-ff86-4be5-a4c4-0ebed0135577"
   },
   "outputs": [
    {
     "data": {
      "image/png": "[encoded data removed]",
      "text/plain": [
       "<Figure size 432x288 with 1 Axes>"
      ]
     },
     "metadata": {},
     "output_type": "display_data"
    }
   ],
   "source": [
    "# PCA for dimensionality redcution (non-visualization)\n",
    "\n",
    "percentage_var_explained = pca.explained_variance_ / np.sum(pca.explained_variance_);\n",
    "\n",
    "cum_var_explained = np.cumsum(percentage_var_explained)\n",
    "\n",
    "# Plot the PCA spectrum\n",
    "plt.figure(1, figsize=(6, 4))\n",
    "\n",
    "plt.plot(cum_var_explained, linewidth=2)\n",
    "plt.grid(True)\n",
    "plt.xlabel('n_components')\n",
    "plt.ylabel('Cumulative_explained_variance')\n",
    "plt.show()"
   ]
  },
  {
   "cell_type": "markdown",
   "metadata": {
    "id": "fVw_PDhRFxC8"
   },
   "source": [
    "*15 components or features are giving 95%+ explained variability.*"
   ]
  },
  {
   "cell_type": "markdown",
   "metadata": {
    "id": "hKqVF2SRWViD"
   },
   "source": [
    "### Feature importance using Mutual information"
   ]
  },
  {
   "cell_type": "code",
   "execution_count": null,
   "metadata": {
    "id": "Poa_HOCsjtSx"
   },
   "outputs": [],
   "source": [
    "# https://scikit-learn.org/stable/modules/generated/sklearn.feature_selection.mutual_info_classif.html\n",
    "# Mutual information-> https://en.wikipedia.org/wiki/Mutual_information\n",
    "from sklearn.feature_selection import mutual_info_classif # almost siliar to the information gain\n",
    "\n",
    "#https://scikit-learn.org/stable/modules/generated/sklearn.feature_selection.SelectKBest.html\n",
    "from sklearn.feature_selection import SelectKBest"
   ]
  },
  {
   "cell_type": "code",
   "execution_count": null,
   "metadata": {
    "id": "jIIvlu1bj2Wu"
   },
   "outputs": [],
   "source": [
    "# feature selection\n",
    "# https://machinelearningmastery.com/feature-selection-with-categorical-data/\n",
    "\n",
    "def select_features(X_train, y_train):\n",
    "  '''\n",
    "  This function takes X and y as input\n",
    "  calculates K best features using scoring function, for this mutual_info_classif is being used as score function\n",
    "  returns the k best features with their scores\n",
    "  '''\n",
    "  fs = SelectKBest(score_func=mutual_info_classif, k='all')\n",
    "  fs.fit(X_train, y_train)\n",
    "  return fs"
   ]
  },
  {
   "cell_type": "code",
   "execution_count": null,
   "metadata": {
    "colab": {
     "base_uri": "https://localhost:8080/",
     "height": 971
    },
    "executionInfo": {
     "elapsed": 2770,
     "status": "ok",
     "timestamp": 1639385428357,
     "user": {
      "displayName": "Kuldeep Joshi",
      "photoUrl": "https://lh3.googleusercontent.com/a-/AOh14GiJ4WNwl1G6NPV39M0GVQrsKWORGyLmIPpbMlQSA_w=s64",
      "userId": "10194195710468067065"
     },
     "user_tz": -330
    },
    "id": "n6jojgAPjt8S",
    "outputId": "e58b2f16-a552-4901-a03b-0607e8b37b7a"
   },
   "outputs": [
    {
     "name": "stdout",
     "output_type": "stream",
     "text": [
      "url_having_at_symbol 0.007867\n",
      "url_length 0.091905\n",
      "url_depth 0.241525\n",
      "url_redirection 0.006235\n",
      "url_http_domain 0.291179\n",
      "url_sortining_service 0.000000\n",
      "url_prefix_suffix 0.004868\n",
      "url_standard_port 0.000963\n",
      "url_google_index 0.691296\n",
      "dns_record 0.021481\n",
      "domain_age 0.083894\n",
      "statistical_report 0.000944\n",
      "page_mouse_over 0.010134\n",
      "page_right_click_disable 0.000000\n",
      "page_pop_up 0.002544\n",
      "page_iframe 0.027331\n",
      "page_website_forwarding 0.020129\n",
      "link_pointing_to_the_page 0.003657\n",
      "submit_email 0.010514\n",
      "redirection_count 0.000985\n",
      "server_from_handler 0.009639\n",
      "page_favicon 0.018279\n",
      "ssl_state 0.009357\n"
     ]
    },
    {
     "data": {
      "image/png": "[encoded data removed]",
      "text/plain": [
       "<Figure size 864x432 with 1 Axes>"
      ]
     },
     "metadata": {},
     "output_type": "display_data"
    }
   ],
   "source": [
    "# feature selection\n",
    "fs = select_features(X, y)\n",
    "\n",
    "# col names\n",
    "labels = X.columns\n",
    "\n",
    "# what are scores for the features\n",
    "for i in range(len(fs.scores_)):\n",
    "\tprint('%s %f' % (labels[i], fs.scores_[i]))\n",
    " \n",
    "# plot the scores\n",
    "plt.figure(figsize=(12, 6))\n",
    "plt.bar([labels[i] for i in range(len(fs.scores_))], fs.scores_)\n",
    "plt.title('feature scores')\n",
    "plt.xlabel('feature')\n",
    "plt.ylabel('score')\n",
    "plt.xticks(rotation=90)\n",
    "plt.show()"
   ]
  },
  {
   "cell_type": "markdown",
   "metadata": {
    "id": "cKAoLzC4_LyK"
   },
   "source": [
    "Top 5 Weak features:\n",
    "\n",
    "1. url_sortining_service\n",
    "\n",
    "2. link_pointing_to_the_page\n",
    "\n",
    "3. page_pop_up\n",
    "\n",
    "4. page_right_click_disable\n",
    "\n",
    "5. statistical_report\n",
    "\n",
    "As the dataset is small, its better not to delete any feature to avoid overfitting."
   ]
  },
  {
   "cell_type": "markdown",
   "metadata": {
    "id": "b6kTCNwmZm1x"
   },
   "source": [
    "### Correlation matrix"
   ]
  },
  {
   "cell_type": "code",
   "execution_count": null,
   "metadata": {
    "colab": {
     "base_uri": "https://localhost:8080/",
     "height": 864
    },
    "executionInfo": {
     "elapsed": 1636,
     "status": "ok",
     "timestamp": 1639385904535,
     "user": {
      "displayName": "Kuldeep Joshi",
      "photoUrl": "https://lh3.googleusercontent.com/a-/AOh14GiJ4WNwl1G6NPV39M0GVQrsKWORGyLmIPpbMlQSA_w=s64",
      "userId": "10194195710468067065"
     },
     "user_tz": -330
    },
    "id": "4scyWktUZpS5",
    "outputId": "e4506bf1-6d5b-48ab-cc7b-1cbb6eb38170"
   },
   "outputs": [
    {
     "data": {
      "image/png": "[encoded data removed]",
      "text/plain": [
       "<Figure size 864x1080 with 2 Axes>"
      ]
     },
     "metadata": {},
     "output_type": "display_data"
    }
   ],
   "source": [
    "# https://seaborn.pydata.org/generated/seaborn.heatmap.html\n",
    "\n",
    "# calculating correlation of dataframe\n",
    "corr = X_train.corr()\n",
    "\n",
    "# creating a mask values matrix\n",
    "mask = np.zeros_like(corr)\n",
    "\n",
    "mask[np.triu_indices_from(mask)] = True\n",
    "\n",
    "with sns.axes_style(\"white\"):\n",
    "\n",
    "    f, ax = plt.subplots(figsize=(12, 15))\n",
    "\n",
    "    ax = sns.heatmap(corr, mask=mask, vmax=.3, square=True)"
   ]
  },
  {
   "cell_type": "markdown",
   "metadata": {
    "id": "RwZIsvZw8aGR"
   },
   "source": [
    "1. url_length, url_depth, url_http_domain, url_google_index, domain_age having strong correlation with result.\n",
    "\n",
    "2. There is multicollinearity in dataset. Could be helpful in feature engineering, by constructing new features and perform further feature interaction."
   ]
  },
  {
   "cell_type": "markdown",
   "metadata": {
    "id": "T5wAURIdB0Nm"
   },
   "source": [
    "## Feature engineering using Correlation matrix"
   ]
  },
  {
   "cell_type": "code",
   "execution_count": 20,
   "metadata": {
    "id": "pvuw2wZVVUqT"
   },
   "outputs": [],
   "source": [
    "y_train = X_train.result\n",
    "X_train = X_train.drop(columns = ['result', 'url_google_index'])"
   ]
  },
  {
   "cell_type": "code",
   "execution_count": 21,
   "metadata": {
    "id": "e0ZmWf3lE7d0"
   },
   "outputs": [],
   "source": [
    "X_train['length_depth'] = X_train.url_length +  X_train.url_depth\n",
    "X_train['port_redirection'] = X_train.url_standard_port +  X_train.redirection_count\n",
    "X_train['var_median'] = X_train.median(axis = 1)\n",
    "X_train['var_max'] = X_train.max(axis = 1)\n",
    "X_train['var_std'] = X_train.std(axis = 1)\n",
    "X_train['var_sum'] = X_train.sum(axis = 1)"
   ]
  },
  {
   "cell_type": "code",
   "execution_count": 22,
   "metadata": {
    "colab": {
     "base_uri": "https://localhost:8080/"
    },
    "executionInfo": {
     "elapsed": 5,
     "status": "ok",
     "timestamp": 1639641388530,
     "user": {
      "displayName": "Kuldeep Joshi",
      "photoUrl": "https://lh3.googleusercontent.com/a-/AOh14GiJ4WNwl1G6NPV39M0GVQrsKWORGyLmIPpbMlQSA_w=s64",
      "userId": "10194195710468067065"
     },
     "user_tz": -330
    },
    "id": "VfJZCNnWJeeP",
    "outputId": "5007e34e-cbc8-4357-aeb3-19ade7f0e14e"
   },
   "outputs": [
    {
     "data": {
      "text/plain": [
       "(14874, 28)"
      ]
     },
     "execution_count": 22,
     "metadata": {},
     "output_type": "execute_result"
    }
   ],
   "source": [
    "X_train.shape"
   ]
  },
  {
   "cell_type": "markdown",
   "metadata": {
    "id": "-yoTJlEsBOJL"
   },
   "source": [
    "### Preparing test dataset"
   ]
  },
  {
   "cell_type": "code",
   "execution_count": 23,
   "metadata": {
    "colab": {
     "base_uri": "https://localhost:8080/"
    },
    "executionInfo": {
     "elapsed": 755,
     "status": "ok",
     "timestamp": 1639641912253,
     "user": {
      "displayName": "Kuldeep Joshi",
      "photoUrl": "https://lh3.googleusercontent.com/a-/AOh14GiJ4WNwl1G6NPV39M0GVQrsKWORGyLmIPpbMlQSA_w=s64",
      "userId": "10194195710468067065"
     },
     "user_tz": -330
    },
    "id": "DKnw5K6OJtEU",
    "outputId": "01e44acd-0b97-47f5-df0c-1279b0717d9a"
   },
   "outputs": [
    {
     "name": "stdout",
     "output_type": "stream",
     "text": [
      "X_test shape:  (4577, 28)\n"
     ]
    }
   ],
   "source": [
    "X_test['statistical_report'] = X_test['statistical_report'].fillna(-1)\n",
    "\n",
    "X_test['page_favicon'] = X_test['page_favicon'].fillna(-1)\n",
    "\n",
    "# filling na with 1    \n",
    "X_test['redirection_count'] = X_test['redirection_count'].fillna(1)\n",
    "\n",
    "# drop the less frequent null value rows\n",
    "X_test.dropna(inplace = True)\n",
    "\n",
    "# drop textual feature\n",
    "X_test.drop(columns = ['url', 'url_google_index'], inplace= True)\n",
    "\n",
    "# removing constant features\n",
    "X_test.drop(columns = ['url_having_IP_Address', \"domain_registration_length\"], inplace= True)\n",
    "\n",
    "# applying FE\n",
    "y_test = X_test.result\n",
    "X_test = X_test.drop(columns = 'result')\n",
    "\n",
    "X_test['length_depth'] = X_test.url_length +  X_test.url_depth\n",
    "X_test['port_redirection'] = X_test.url_standard_port +  X_test.redirection_count\n",
    "X_test['var_median'] = X_test.median(axis = 1)\n",
    "X_test['var_max'] = X_test.max(axis = 1)\n",
    "X_test['var_std'] = X_test.std(axis = 1)\n",
    "X_test['var_sum'] = X_test.sum(axis = 1)\n",
    "\n",
    "print('X_test shape: ', X_test.shape)"
   ]
  },
  {
   "cell_type": "markdown",
   "metadata": {
    "id": "jLFFApIaCNp4"
   },
   "source": [
    "## Modelling"
   ]
  },
  {
   "cell_type": "code",
   "execution_count": 23,
   "metadata": {},
   "outputs": [
    {
     "name": "stdout",
     "output_type": "stream",
     "text": [
      "LR: 0.994823 (0.002677)\n",
      "KNN: 0.926516 (0.005201)\n",
      "Decision Tree: 0.959527 (0.003563)\n",
      "NB: 0.893640 (0.005924)\n",
      "SVM: 0.906282 (0.041549)\n"
     ]
    }
   ],
   "source": [
    "# https://machinelearningmastery.com/compare-machine-learning-algorithms-python-scikit-learn/\n",
    "# Compare Algorithms\n",
    "\n",
    "from sklearn import model_selection\n",
    "\n",
    "# linear models\n",
    "from sklearn.linear_model import LogisticRegression\n",
    "from sklearn.linear_model import SGDClassifier\n",
    "\n",
    "# tree based model\n",
    "from sklearn.tree import DecisionTreeClassifier\n",
    "\n",
    "# instance based model\n",
    "from sklearn.neighbors import KNeighborsClassifier\n",
    "\n",
    "from sklearn.naive_bayes import GaussianNB\n",
    "\n",
    "# prepare models\n",
    "models = []\n",
    "models.append(('LR', LogisticRegression()))\n",
    "models.append(('KNN', KNeighborsClassifier()))\n",
    "models.append(('Decision Tree', DecisionTreeClassifier()))\n",
    "models.append(('NB', GaussianNB()))\n",
    "models.append(('SVM', SGDClassifier(loss = 'hinge')))\n",
    "\n",
    "# evaluate each model in turn\n",
    "results = []\n",
    "names = []\n",
    "scoring = 'accuracy'\n",
    "for name, model in models:\n",
    "\tkfold = model_selection.KFold(n_splits=5)\n",
    "\tcv_results = model_selection.cross_val_score(model, X_train, y_train, cv=kfold, scoring=scoring)\n",
    "\tresults.append(cv_results)\n",
    "\tnames.append(name)\n",
    "\tmsg = \"%s: %f (%f)\" % (name, cv_results.mean(), cv_results.std())\n",
    "\tprint(msg)"
   ]
  },
  {
   "cell_type": "markdown",
   "metadata": {
    "id": "NfXDGM3oCRDz"
   },
   "source": [
    "#### Hyper parameter tuning"
   ]
  },
  {
   "cell_type": "markdown",
   "metadata": {
    "id": "VByCLX1oNqsI"
   },
   "source": [
    "> logistic regression"
   ]
  },
  {
   "cell_type": "code",
   "execution_count": 24,
   "metadata": {
    "id": "rPZZRt4XL9TH"
   },
   "outputs": [],
   "source": [
    "# grid search CV\n",
    "from sklearn.model_selection import GridSearchCV\n",
    "from sklearn.pipeline import make_pipeline\n",
    "\n",
    "import math\n",
    "from sklearn.preprocessing import MinMaxScaler"
   ]
  },
  {
   "cell_type": "code",
   "execution_count": 25,
   "metadata": {
    "colab": {
     "base_uri": "https://localhost:8080/"
    },
    "executionInfo": {
     "elapsed": 3,
     "status": "ok",
     "timestamp": 1639642378466,
     "user": {
      "displayName": "Kuldeep Joshi",
      "photoUrl": "https://lh3.googleusercontent.com/a-/AOh14GiJ4WNwl1G6NPV39M0GVQrsKWORGyLmIPpbMlQSA_w=s64",
      "userId": "10194195710468067065"
     },
     "user_tz": -330
    },
    "id": "nMdAeKkGTNT1",
    "outputId": "6d4eae42-8a75-4208-efe4-c95e853397b9"
   },
   "outputs": [
    {
     "data": {
      "text/plain": [
       "dict_keys(['memory', 'steps', 'verbose', 'minmaxscaler', 'logisticregression', 'minmaxscaler__clip', 'minmaxscaler__copy', 'minmaxscaler__feature_range', 'logisticregression__C', 'logisticregression__class_weight', 'logisticregression__dual', 'logisticregression__fit_intercept', 'logisticregression__intercept_scaling', 'logisticregression__l1_ratio', 'logisticregression__max_iter', 'logisticregression__multi_class', 'logisticregression__n_jobs', 'logisticregression__penalty', 'logisticregression__random_state', 'logisticregression__solver', 'logisticregression__tol', 'logisticregression__verbose', 'logisticregression__warm_start'])"
      ]
     },
     "execution_count": 25,
     "metadata": {},
     "output_type": "execute_result"
    }
   ],
   "source": [
    "pipe = make_pipeline(MinMaxScaler(), LogisticRegression())\n",
    "pipe.get_params().keys()"
   ]
  },
  {
   "cell_type": "code",
   "execution_count": 27,
   "metadata": {
    "colab": {
     "base_uri": "https://localhost:8080/"
    },
    "executionInfo": {
     "elapsed": 3955,
     "status": "ok",
     "timestamp": 1639642420528,
     "user": {
      "displayName": "Kuldeep Joshi",
      "photoUrl": "https://lh3.googleusercontent.com/a-/AOh14GiJ4WNwl1G6NPV39M0GVQrsKWORGyLmIPpbMlQSA_w=s64",
      "userId": "10194195710468067065"
     },
     "user_tz": -330
    },
    "id": "AQHTG8IGCT-l",
    "outputId": "b32d8b52-7ff2-40af-b3a3-9e1d731e3e2c"
   },
   "outputs": [
    {
     "name": "stdout",
     "output_type": "stream",
     "text": [
      "Best hyper parameter:  {'logisticregression__C': 10000}\n",
      "Model Score:  0.9826442776350583\n",
      "Model estimator:  Pipeline(steps=[('minmaxscaler', MinMaxScaler()),\n",
      "                ('logisticregression', LogisticRegression(C=10000))])\n"
     ]
    }
   ],
   "source": [
    "ls=[10**-4, 10**-2, 10**0, 10**2, 10**4]\n",
    "tuned_parameters = [{'logisticregression__C': ls}]\n",
    "\n",
    "#Using GridSearchCV\n",
    "pipe = make_pipeline(MinMaxScaler(), LogisticRegression())\n",
    "search = GridSearchCV(pipe, tuned_parameters, scoring = 'roc_auc', cv=5, return_train_score= True, n_jobs =-1)\n",
    "search.fit(X_train, y_train)\n",
    "\n",
    "print('Best hyper parameter: ', search.best_params_)\n",
    "print('Model Score: ', search.best_score_)\n",
    "print('Model estimator: ', search.best_estimator_)\n",
    "best_C= float(search.best_params_['logisticregression__C'])"
   ]
  },
  {
   "cell_type": "code",
   "execution_count": 28,
   "metadata": {
    "colab": {
     "base_uri": "https://localhost:8080/",
     "height": 314
    },
    "executionInfo": {
     "elapsed": 1428,
     "status": "ok",
     "timestamp": 1639642681230,
     "user": {
      "displayName": "Kuldeep Joshi",
      "photoUrl": "https://lh3.googleusercontent.com/a-/AOh14GiJ4WNwl1G6NPV39M0GVQrsKWORGyLmIPpbMlQSA_w=s64",
      "userId": "10194195710468067065"
     },
     "user_tz": -330
    },
    "id": "ZHmWpvHAjK-E",
    "outputId": "d984c19f-e922-45d7-e0a6-0bceb92bc7ab"
   },
   "outputs": [
    {
     "data": {
      "image/png": "[encoded data removed]",
      "text/plain": [
       "<Figure size 432x288 with 1 Axes>"
      ]
     },
     "metadata": {
      "needs_background": "light"
     },
     "output_type": "display_data"
    },
    {
     "name": "stdout",
     "output_type": "stream",
     "text": [
      "AUC:  0.9683089974853316\n"
     ]
    }
   ],
   "source": [
    "# roc auc plot\n",
    "from sklearn.metrics import roc_curve, auc, roc_auc_score\n",
    "\n",
    "\n",
    "lr_model = make_pipeline(MinMaxScaler(), LogisticRegression(C= 0.01))\n",
    "lr_model.fit(X_train, y_train)\n",
    "\n",
    "train_fpr, train_tpr, thresholds = roc_curve(y_train, lr_model.predict_proba(X_train)[:,1])\n",
    "test_fpr, test_tpr, thresholds = roc_curve(y_test, lr_model.predict_proba(X_test)[:,1])\n",
    "\n",
    "plt.plot(train_fpr, train_tpr, label=\"train AUC =\"+str(auc(train_fpr, train_tpr)))\n",
    "plt.plot(test_fpr, test_tpr, label=\"test AUC =\"+str(auc(test_fpr, test_tpr)))\n",
    "plt.legend()\n",
    "plt.xlabel(\"C: hyperparameter\")\n",
    "plt.ylabel(\"AUC\")\n",
    "plt.title(\"ERROR PLOTS\")\n",
    "plt.show()\n",
    "\n",
    "print('AUC: ',roc_auc_score(y_train, lr_model.predict_proba(X_train)[:, 1]))"
   ]
  },
  {
   "cell_type": "code",
   "execution_count": 29,
   "metadata": {
    "colab": {
     "base_uri": "https://localhost:8080/",
     "height": 339
    },
    "executionInfo": {
     "elapsed": 1544,
     "status": "ok",
     "timestamp": 1639642705882,
     "user": {
      "displayName": "Kuldeep Joshi",
      "photoUrl": "https://lh3.googleusercontent.com/a-/AOh14GiJ4WNwl1G6NPV39M0GVQrsKWORGyLmIPpbMlQSA_w=s64",
      "userId": "10194195710468067065"
     },
     "user_tz": -330
    },
    "id": "vcH5dFWrN8cd",
    "outputId": "114f7955-6610-472f-a22d-dd5491b0e430"
   },
   "outputs": [
    {
     "name": "stdout",
     "output_type": "stream",
     "text": [
      "Test confusion matrix\n",
      "[[1965   31]\n",
      " [ 358 2223]]\n"
     ]
    },
    {
     "data": {
      "text/plain": [
       "<AxesSubplot:>"
      ]
     },
     "execution_count": 29,
     "metadata": {},
     "output_type": "execute_result"
    },
    {
     "data": {
      "image/png": "[encoded data removed]",
      "text/plain": [
       "<Figure size 432x288 with 2 Axes>"
      ]
     },
     "metadata": {
      "needs_background": "light"
     },
     "output_type": "display_data"
    }
   ],
   "source": [
    "from sklearn.metrics import confusion_matrix\n",
    "print(\"Test confusion matrix\")\n",
    "print(confusion_matrix(y_test, lr_model.predict(X_test)))\n",
    "\n",
    "# conprint('AUC: ',roc_auc_score(Y_train, m_nb.predict(X_tr_bow)))fusion matrix visualization using seaborn heatmap \n",
    "df_test= pd.DataFrame(confusion_matrix(y_test, lr_model.predict(X_test)))\n",
    "sns.heatmap(df_test, annot=True,annot_kws={\"size\": 16}, fmt='g')"
   ]
  },
  {
   "cell_type": "markdown",
   "metadata": {},
   "source": [
    "### Applying Ensembles"
   ]
  },
  {
   "cell_type": "code",
   "execution_count": 26,
   "metadata": {},
   "outputs": [
    {
     "data": {
      "text/plain": [
       "dict_keys(['memory', 'steps', 'verbose', 'minmaxscaler', 'randomforestclassifier', 'minmaxscaler__clip', 'minmaxscaler__copy', 'minmaxscaler__feature_range', 'randomforestclassifier__bootstrap', 'randomforestclassifier__ccp_alpha', 'randomforestclassifier__class_weight', 'randomforestclassifier__criterion', 'randomforestclassifier__max_depth', 'randomforestclassifier__max_features', 'randomforestclassifier__max_leaf_nodes', 'randomforestclassifier__max_samples', 'randomforestclassifier__min_impurity_decrease', 'randomforestclassifier__min_impurity_split', 'randomforestclassifier__min_samples_leaf', 'randomforestclassifier__min_samples_split', 'randomforestclassifier__min_weight_fraction_leaf', 'randomforestclassifier__n_estimators', 'randomforestclassifier__n_jobs', 'randomforestclassifier__oob_score', 'randomforestclassifier__random_state', 'randomforestclassifier__verbose', 'randomforestclassifier__warm_start'])"
      ]
     },
     "execution_count": 26,
     "metadata": {},
     "output_type": "execute_result"
    }
   ],
   "source": [
    "from sklearn.ensemble import RandomForestClassifier\n",
    "\n",
    "pipe = make_pipeline(MinMaxScaler(), RandomForestClassifier())\n",
    "pipe.get_params().keys()"
   ]
  },
  {
   "cell_type": "code",
   "execution_count": 38,
   "metadata": {},
   "outputs": [
    {
     "name": "stdout",
     "output_type": "stream",
     "text": [
      "Fitting 5 folds for each of 30 candidates, totalling 150 fits\n",
      "Best hyper parameter:  {'randomforestclassifier__max_depth': 500, 'randomforestclassifier__n_estimators': 500}\n",
      "Model Score:  0.9937430027759891\n",
      "Model estimator:  Pipeline(steps=[('minmaxscaler', MinMaxScaler()),\n",
      "                ('randomforestclassifier',\n",
      "                 RandomForestClassifier(max_depth=500, n_estimators=500))])\n"
     ]
    }
   ],
   "source": [
    "depth = [1, 10, 50, 100, 500, 1000]\n",
    "n_estimators = [100, 200, 300, 400, 500]\n",
    "tuned_parameters = [{'randomforestclassifier__max_depth':depth, 'randomforestclassifier__n_estimators': n_estimators}]\n",
    "\n",
    "# Applying RandomizedSearchCV with k folds = 5 and taking 'roc_auc' as score metric\n",
    "pipe = make_pipeline(MinMaxScaler(), RandomForestClassifier())\n",
    "clf = GridSearchCV(pipe, tuned_parameters, scoring = 'roc_auc', cv=5, return_train_score= True, verbose = 10, n_jobs= -1)\n",
    "clf.fit(X_train, y_train)\n",
    "\n",
    "print('Best hyper parameter: ', clf.best_params_)\n",
    "print('Model Score: ', clf.best_score_)\n",
    "print('Model estimator: ', clf.best_estimator_)"
   ]
  },
  {
   "cell_type": "code",
   "execution_count": 31,
   "metadata": {},
   "outputs": [
    {
     "data": {
      "image/png": "[encoded data removed]",
      "text/plain": [
       "<Figure size 432x288 with 1 Axes>"
      ]
     },
     "metadata": {
      "needs_background": "light"
     },
     "output_type": "display_data"
    },
    {
     "name": "stdout",
     "output_type": "stream",
     "text": [
      "AUC:  0.9951718256798279\n"
     ]
    }
   ],
   "source": [
    "# roc auc plot\n",
    "from sklearn.metrics import roc_curve, auc, roc_auc_score\n",
    "\n",
    "\n",
    "rf_model = make_pipeline(MinMaxScaler(), RandomForestClassifier(max_depth= 500, n_estimators= 500))\n",
    "rf_model.fit(X_train, y_train)\n",
    "\n",
    "train_fpr, train_tpr, thresholds = roc_curve(y_train, rf_model.predict_proba(X_train)[:,1])\n",
    "test_fpr, test_tpr, thresholds = roc_curve(y_test, rf_model.predict_proba(X_test)[:,1])\n",
    "\n",
    "plt.plot(train_fpr, train_tpr, label=\"train AUC =\"+str(auc(train_fpr, train_tpr)))\n",
    "plt.plot(test_fpr, test_tpr, label=\"test AUC =\"+str(auc(test_fpr, test_tpr)))\n",
    "plt.legend()\n",
    "plt.xlabel(\"C: hyperparameter\")\n",
    "plt.ylabel(\"AUC\")\n",
    "plt.title(\"ERROR PLOTS\")\n",
    "plt.show()\n",
    "\n",
    "print('AUC: ',roc_auc_score(y_train, rf_model.predict_proba(X_train)[:, 1]))"
   ]
  },
  {
   "cell_type": "code",
   "execution_count": 33,
   "metadata": {},
   "outputs": [
    {
     "name": "stdout",
     "output_type": "stream",
     "text": [
      "Test confusion matrix\n",
      "[[1912   84]\n",
      " [ 142 2439]]\n"
     ]
    },
    {
     "data": {
      "text/plain": [
       "<AxesSubplot:>"
      ]
     },
     "execution_count": 33,
     "metadata": {},
     "output_type": "execute_result"
    },
    {
     "data": {
      "image/png": "[encoded data removed]",
      "text/plain": [
       "<Figure size 432x288 with 2 Axes>"
      ]
     },
     "metadata": {
      "needs_background": "light"
     },
     "output_type": "display_data"
    }
   ],
   "source": [
    "from sklearn.metrics import confusion_matrix\n",
    "print(\"Test confusion matrix\")\n",
    "print(confusion_matrix(y_test, rf_model.predict(X_test)))\n",
    "\n",
    "# conprint('AUC: ',roc_auc_score(Y_train, m_nb.predict(X_tr_bow)))fusion matrix visualization using seaborn heatmap \n",
    "df_test= pd.DataFrame(confusion_matrix(y_test, rf_model.predict(X_test)))\n",
    "sns.heatmap(df_test, annot=True,annot_kws={\"size\": 16}, fmt='g')"
   ]
  },
  {
   "cell_type": "markdown",
   "metadata": {},
   "source": [
    "#### Feature Importance"
   ]
  },
  {
   "cell_type": "code",
   "execution_count": 39,
   "metadata": {},
   "outputs": [],
   "source": [
    "# https://www.analyseup.com/learn-python-for-data-science/python-random-forest-feature-importance-plot.html\n",
    "\n",
    "def plot_feature_importance(importance,names,model_type):\n",
    "    #Create arrays from feature importance and feature names\n",
    "    feature_importance = np.array(importance)\n",
    "    feature_names = np.array(names)\n",
    "\n",
    "    #Create a DataFrame using a Dictionary\n",
    "    data={'feature_names':feature_names,'feature_importance':feature_importance}\n",
    "    fi_df = pd.DataFrame(data)\n",
    "\n",
    "    #Sort the DataFrame in order decreasing feature importance\n",
    "    fi_df.sort_values(by=['feature_importance'], ascending=False,inplace=True)\n",
    "\n",
    "    #Define size of bar plot\n",
    "    plt.figure(figsize=(10,8))\n",
    "    #Plot Searborn bar chart\n",
    "    sns.barplot(x=fi_df['feature_importance'], y=fi_df['feature_names'])\n",
    "    #Add chart labels\n",
    "    plt.title(model_type + 'FEATURE IMPORTANCE')\n",
    "    plt.xlabel('FEATURE IMPORTANCE')\n",
    "    plt.ylabel('FEATURE NAMES')\n"
   ]
  },
  {
   "cell_type": "code",
   "execution_count": 34,
   "metadata": {},
   "outputs": [
    {
     "data": {
      "text/plain": [
       "('randomforestclassifier',\n",
       " RandomForestClassifier(max_depth=500, n_estimators=500))"
      ]
     },
     "execution_count": 34,
     "metadata": {},
     "output_type": "execute_result"
    }
   ],
   "source": [
    "# https://stackoverflow.com/questions/38787612/how-to-extract-feature-importances-from-an-sklearn-pipeline\n",
    "rf_model.steps[1]"
   ]
  },
  {
   "cell_type": "code",
   "execution_count": 40,
   "metadata": {},
   "outputs": [
    {
     "data": {
      "image/png": "[encoded data removed]",
      "text/plain": [
       "<Figure size 720x576 with 1 Axes>"
      ]
     },
     "metadata": {
      "needs_background": "light"
     },
     "output_type": "display_data"
    }
   ],
   "source": [
    "importance = rf_model.steps[1][1].feature_importances_\n",
    "\n",
    "plot_feature_importance(importance, X_train.columns,'RANDOM FOREST')\n"
   ]
  },
  {
   "cell_type": "markdown",
   "metadata": {},
   "source": [
    "#### Saving the best model"
   ]
  },
  {
   "cell_type": "code",
   "execution_count": 41,
   "metadata": {
    "id": "8wuFsTOZpfnk"
   },
   "outputs": [],
   "source": [
    "filename = 'final_model.sav'\n",
    "pickle.dump(rf_model, open(filename, 'wb'))"
   ]
  },
  {
   "cell_type": "markdown",
   "metadata": {},
   "source": [
    "### Conclusion"
   ]
  },
  {
   "cell_type": "code",
   "execution_count": 43,
   "metadata": {},
   "outputs": [
    {
     "name": "stdout",
     "output_type": "stream",
     "text": [
      "Collecting prettytable\n",
      "  Downloading prettytable-2.4.0-py3-none-any.whl (24 kB)\n",
      "Requirement already satisfied: wcwidth in c:\\users\\sys.ai\\appdata\\roaming\\python\\python39\\site-packages (from prettytable) (0.2.5)\n",
      "Installing collected packages: prettytable\n",
      "Successfully installed prettytable-2.4.0\n"
     ]
    }
   ],
   "source": [
    "!pip install prettytable"
   ]
  },
  {
   "cell_type": "code",
   "execution_count": 32,
   "metadata": {},
   "outputs": [
    {
     "name": "stdout",
     "output_type": "stream",
     "text": [
      "+---------------------+---------------------------------+-------+-------+---------------+\n",
      "|        Model        |         Hyper parameter         | Train |  Test | roc_auc_score |\n",
      "+---------------------+---------------------------------+-------+-------+---------------+\n",
      "| Logistic regression |             C=10000             | 0.975 |  0.97 |     0.968     |\n",
      "|    Random Forest    | max_depth=500, n_estimators=500 | 0.995 | 0.987 |     0.995     |\n",
      "+---------------------+---------------------------------+-------+-------+---------------+\n"
     ]
    }
   ],
   "source": [
    "# Documetation: https://pypi.org/project/prettytable/\n",
    "from prettytable import PrettyTable\n",
    "    \n",
    "x = PrettyTable()\n",
    "\n",
    "x.field_names= [\"Model\", \"Hyper parameter\", \"Train\", \"Test\", \"roc_auc_score\"]\n",
    "\n",
    "x.add_row([\"Logistic regression\", \"C=10000\", 0.975, 0.97, 0.968])\n",
    "x.add_row([\"Random Forest\", \"max_depth=500, n_estimators=500\", 0.995, 0.987, 0.995])\n",
    "\n",
    "print(x)"
   ]
  },
  {
   "cell_type": "code",
   "execution_count": null,
   "metadata": {},
   "outputs": [],
   "source": []
  }
 ],
 "metadata": {
  "colab": {
   "authorship_tag": "ABX9TyPM88CWBlo1LWkS/O07X2jT",
   "collapsed_sections": [],
   "name": "Phishing Detection Using ML.ipynb",
   "provenance": []
  },
  "kernelspec": {
   "display_name": "Python 3 (ipykernel)",
   "language": "python",
   "name": "python3"
  },
  "language_info": {
   "codemirror_mode": {
    "name": "ipython",
    "version": 3
   },
   "file_extension": ".py",
   "mimetype": "text/x-python",
   "name": "python",
   "nbconvert_exporter": "python",
   "pygments_lexer": "ipython3",
   "version": "3.9.7"
  }
 },
 "nbformat": 4,
 "nbformat_minor": 1
}
