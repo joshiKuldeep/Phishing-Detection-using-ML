{
 "cells": [
  {
   "cell_type": "markdown",
   "metadata": {
    "id": "-LD5n8S7UT4_"
   },
   "source": [
    "## Importing libraries"
   ]
  },
  {
   "cell_type": "code",
   "execution_count": 1,
   "metadata": {
    "executionInfo": {
     "elapsed": 403,
     "status": "ok",
     "timestamp": 1639710532716,
     "user": {
      "displayName": "Kuldeep Joshi",
      "photoUrl": "https://lh3.googleusercontent.com/a-/AOh14GiJ4WNwl1G6NPV39M0GVQrsKWORGyLmIPpbMlQSA_w=s64",
      "userId": "10194195710468067065"
     },
     "user_tz": -330
    },
    "id": "-XepC-qQUW_o"
   },
   "outputs": [],
   "source": [
    "import warnings\n",
    "warnings.filterwarnings(\"ignore\")\n",
    "\n",
    "# data manipulation and numeric operations\n",
    "import pandas as pd\n",
    "import numpy as np\n",
    "\n",
    "# save and load serialized objects\n",
    "import pickle\n",
    "\n",
    "# track progress of function execution\n",
    "from tqdm import tqdm\n",
    "import os\n",
    "\n",
    "# metrics\n",
    "from sklearn.metrics import accuracy_score, roc_auc_score\n",
    "from sklearn.metrics import confusion_matrix"
   ]
  },
  {
   "cell_type": "code",
   "execution_count": 2,
   "metadata": {},
   "outputs": [
    {
     "data": {
      "text/plain": [
       "(4587, 27)"
      ]
     },
     "execution_count": 2,
     "metadata": {},
     "output_type": "execute_result"
    }
   ],
   "source": [
    "test_df = pd.read_csv('test_dataset.csv')\n",
    "\n",
    "test_df.shape"
   ]
  },
  {
   "cell_type": "code",
   "execution_count": 3,
   "metadata": {},
   "outputs": [
    {
     "name": "stdout",
     "output_type": "stream",
     "text": [
      "random legitimate url: http://mitsubishielectric.co.uk\n",
      "random phishing url: https://emsi-lobo.firebaseapp.com/\n"
     ]
    }
   ],
   "source": [
    "# randomly selecting one legitimate and one phishing url\n",
    "test_legi_df = test_df[test_df.result == 0]\n",
    "url_legi = test_legi_df.sample().url.values[0]\n",
    "print('random legitimate url: {}'.format(url_legi))\n",
    "\n",
    "test_phish_df = test_df[test_df.result == 1]\n",
    "url_phish = test_phish_df.sample().url.values[0]\n",
    "print('random phishing url: {}'.format(url_phish))"
   ]
  },
  {
   "cell_type": "code",
   "execution_count": 4,
   "metadata": {
    "executionInfo": {
     "elapsed": 438,
     "status": "ok",
     "timestamp": 1639709844828,
     "user": {
      "displayName": "Kuldeep Joshi",
      "photoUrl": "https://lh3.googleusercontent.com/a-/AOh14GiJ4WNwl1G6NPV39M0GVQrsKWORGyLmIPpbMlQSA_w=s64",
      "userId": "10194195710468067065"
     },
     "user_tz": -330
    },
    "id": "iS0QjDaPdaLH"
   },
   "outputs": [],
   "source": [
    "model = pickle.load(open('final_model.sav', 'rb'))"
   ]
  },
  {
   "cell_type": "code",
   "execution_count": 5,
   "metadata": {},
   "outputs": [
    {
     "name": "stdout",
     "output_type": "stream",
     "text": [
      "importing Jupyter notebook from FeatureExtraction.ipynb\n",
      "Requirement already satisfied: python-whois in d:\\anacondainstalled\\lib\\site-packages (0.7.3)\n",
      "Requirement already satisfied: future in d:\\anacondainstalled\\lib\\site-packages (from python-whois) (0.18.2)\n"
     ]
    }
   ],
   "source": [
    "# !pip install import_ipynb # https://newbedev.com/ipynb-import-another-ipynb-file\n",
    "import import_ipynb\n",
    "import FeatureExtraction"
   ]
  },
  {
   "cell_type": "code",
   "execution_count": 6,
   "metadata": {
    "executionInfo": {
     "elapsed": 422,
     "status": "ok",
     "timestamp": 1639710170071,
     "user": {
      "displayName": "Kuldeep Joshi",
      "photoUrl": "https://lh3.googleusercontent.com/a-/AOh14GiJ4WNwl1G6NPV39M0GVQrsKWORGyLmIPpbMlQSA_w=s64",
      "userId": "10194195710468067065"
     },
     "user_tz": -330
    },
    "id": "vaA1WJQJdaHr"
   },
   "outputs": [],
   "source": [
    "def function1(url):\n",
    "  '''This function contains the steps to feature extraction, preprocessing and model prediction'''\n",
    "  # getting featured dataframe from url\n",
    "  X_test = FeatureExtraction.extract_all_features(url)\n",
    "  # preprocessing\n",
    "  X_test['statistical_report'] = X_test['statistical_report'].fillna(-1)\n",
    "  X_test['page_favicon'] = X_test['page_favicon'].fillna(-1)\n",
    "  X_test['redirection_count'] = X_test['redirection_count'].fillna(1)\n",
    "\n",
    "# drop textual feature, dependent feature\n",
    "  X_test.drop(columns = ['url', 'url_google_index'], inplace= True)\n",
    "\n",
    "  # removing constant features\n",
    "  X_test.drop(columns = ['url_having_IP_Address', \"domain_registration_length\"], inplace= True)\n",
    "\n",
    "  # applying FE\n",
    "  X_test['length_depth'] = X_test.url_length +  X_test.url_depth\n",
    "  X_test['port_redirection'] = X_test.url_standard_port +  X_test.redirection_count\n",
    "  X_test['var_median'] = X_test.median(axis = 1)\n",
    "  X_test['var_max'] = X_test.max(axis = 1)\n",
    "  X_test['var_std'] = X_test.std(axis = 1)\n",
    "  X_test['var_sum'] = X_test.sum(axis = 1)\n",
    "\n",
    "  return model.predict(X_test)"
   ]
  },
  {
   "cell_type": "code",
   "execution_count": 7,
   "metadata": {},
   "outputs": [],
   "source": [
    "def checker(pred):\n",
    "    if pred == 0:\n",
    "        print('Legitimate')\n",
    "    else:\n",
    "        print('Phishing')"
   ]
  },
  {
   "cell_type": "code",
   "execution_count": 8,
   "metadata": {},
   "outputs": [
    {
     "name": "stdout",
     "output_type": "stream",
     "text": [
      "Error trying to connect to socket: closing socket\n",
      "Legitimate\n"
     ]
    }
   ],
   "source": [
    "# checking a random legitimate url\n",
    "pred = function1(url_legi)\n",
    "checker(pred)"
   ]
  },
  {
   "cell_type": "code",
   "execution_count": 9,
   "metadata": {
    "id": "Pybj1-ZKWCob"
   },
   "outputs": [
    {
     "name": "stdout",
     "output_type": "stream",
     "text": [
      "Phishing\n"
     ]
    }
   ],
   "source": [
    "# checking a random phishing url\n",
    "pred = function1(url_phish)\n",
    "checker(pred)"
   ]
  },
  {
   "cell_type": "code",
   "execution_count": 16,
   "metadata": {
    "id": "8wuFsTOZpfnk"
   },
   "outputs": [],
   "source": [
    "def function2(X_test, y):\n",
    "  '''This function returns the predicted value and its probability as its metric'''\n",
    "  # preprocessing\n",
    "  X_test['statistical_report'] = X_test['statistical_report'].fillna(-1)\n",
    "\n",
    "  X_test['page_favicon'] = X_test['page_favicon'].fillna(-1)\n",
    "\n",
    "  # filling na with 1    \n",
    "  X_test['redirection_count'] = X_test['redirection_count'].fillna(1)\n",
    "\n",
    "  # drop textual feature\n",
    "  X_test.drop(columns = ['url', 'url_google_index'], inplace= True)\n",
    "\n",
    "  # removing constant features\n",
    "  X_test.drop(columns = ['url_having_IP_Address', \"domain_registration_length\"], inplace= True)\n",
    "\n",
    "  # applying FE\n",
    "  X_test['length_depth'] = X_test.url_length +  X_test.url_depth\n",
    "  X_test['port_redirection'] = X_test.url_standard_port +  X_test.redirection_count\n",
    "  X_test['var_median'] = X_test.median(axis = 1)\n",
    "  X_test['var_max'] = X_test.max(axis = 1)\n",
    "  X_test['var_std'] = X_test.std(axis = 1)\n",
    "  X_test['var_sum'] = X_test.sum(axis = 1)\n",
    "\n",
    "  return [model.predict(X_test), model.predict_proba(X_test)]"
   ]
  },
  {
   "cell_type": "code",
   "execution_count": 17,
   "metadata": {},
   "outputs": [
    {
     "name": "stdout",
     "output_type": "stream",
     "text": [
      "Actual value: 1001    1\n",
      "Name: result, dtype: int64, predicted value and probability score: [array([1], dtype=int64), array([[0.012, 0.988]])]\n"
     ]
    }
   ],
   "source": [
    "test_sample = test_df.sample()\n",
    "X = test_sample.drop(columns = ['result'])\n",
    "y = test_sample.result\n",
    "\n",
    "print('Actual value: {}, predicted value and probability score: {}'.format(y, function2(X, y)))"
   ]
  },
  {
   "cell_type": "code",
   "execution_count": null,
   "metadata": {},
   "outputs": [],
   "source": []
  }
 ],
 "metadata": {
  "colab": {
   "authorship_tag": "ABX9TyN0L4nhgVwB/aH8FIbuubpr",
   "collapsed_sections": [],
   "name": "Final.ipynb",
   "provenance": []
  },
  "kernelspec": {
   "display_name": "Python 3 (ipykernel)",
   "language": "python",
   "name": "python3"
  },
  "language_info": {
   "codemirror_mode": {
    "name": "ipython",
    "version": 3
   },
   "file_extension": ".py",
   "mimetype": "text/x-python",
   "name": "python",
   "nbconvert_exporter": "python",
   "pygments_lexer": "ipython3",
   "version": "3.9.7"
  }
 },
 "nbformat": 4,
 "nbformat_minor": 1
}
